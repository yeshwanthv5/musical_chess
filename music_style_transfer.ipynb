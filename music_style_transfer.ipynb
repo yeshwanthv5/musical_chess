{
  "nbformat": 4,
  "nbformat_minor": 0,
  "metadata": {
    "accelerator": "GPU",
    "colab": {
      "name": "music_style_transfer.ipynb",
      "provenance": [],
      "collapsed_sections": [],
      "mount_file_id": "1thB3TvEDn28AA1hdlEpNViXblf7Vb71o",
      "authorship_tag": "ABX9TyOcV/tQP2S/3QETuTGWCKm6",
      "include_colab_link": true
    },
    "kernelspec": {
      "display_name": "Python 3",
      "name": "python3"
    }
  },
  "cells": [
    {
      "cell_type": "markdown",
      "metadata": {
        "id": "view-in-github",
        "colab_type": "text"
      },
      "source": [
        "<a href=\"https://colab.research.google.com/github/yeshwanthv5/musical_chess/blob/main/music_style_transfer.ipynb\" target=\"_parent\"><img src=\"https://colab.research.google.com/assets/colab-badge.svg\" alt=\"Open In Colab\"/></a>"
      ]
    },
    {
      "cell_type": "markdown",
      "metadata": {
        "id": "oTfS2YcVzANc"
      },
      "source": [
        "# Neural Style Transfer for Music\n",
        "In this notebook we explore using Neural Style Transfer to embed the context of a game into images obtained from MIDI files\n",
        "\n",
        "\n"
      ]
    },
    {
      "cell_type": "code",
      "metadata": {
        "id": "htSe3MkJY1S8"
      },
      "source": [
        "import tensorflow as tf\n",
        "\n",
        "from tensorflow.keras import layers\n",
        "import matplotlib.pyplot as plt\n",
        "import os\n",
        "from tqdm import tqdm\n",
        "\n",
        "import numpy as np\n",
        "import PIL\n",
        "import PIL.Image\n",
        "import tensorflow_datasets as tfds\n",
        "import pathlib\n",
        "import IPython.display as display"
      ],
      "execution_count": 1,
      "outputs": []
    },
    {
      "cell_type": "markdown",
      "metadata": {
        "id": "KxIdWUpzcYoy"
      },
      "source": [
        "## Explore the Dataset\n",
        "We use piano dataset: http://imanmalik.com/assets/dataset/TPD.zip\n",
        "\n",
        "The dataset has 530 Audio files of two classes (classical and jazz) in MIDI format"
      ]
    },
    {
      "cell_type": "code",
      "metadata": {
        "colab": {
          "base_uri": "https://localhost:8080/"
        },
        "id": "res72P0FXhyy",
        "outputId": "29578b1a-3ac5-4377-832a-f2c37241bfb8"
      },
      "source": [
        "data_dir = '/content/drive/MyDrive/Fall 2020/CPSC 559/Project/data/images'\n",
        "data_dir = pathlib.Path(data_dir)\n",
        "data_dir"
      ],
      "execution_count": 2,
      "outputs": [
        {
          "output_type": "execute_result",
          "data": {
            "text/plain": [
              "PosixPath('/content/drive/MyDrive/Fall 2020/CPSC 559/Project/data/images')"
            ]
          },
          "metadata": {
            "tags": []
          },
          "execution_count": 2
        }
      ]
    },
    {
      "cell_type": "code",
      "metadata": {
        "colab": {
          "base_uri": "https://localhost:8080/"
        },
        "id": "AlEQVwdEXtJm",
        "outputId": "11e1fa93-bc97-4fea-9143-0172fbe6ed13"
      },
      "source": [
        "image_count = len(list(data_dir.glob('*/*.png')))\n",
        "print(image_count)"
      ],
      "execution_count": 3,
      "outputs": [
        {
          "output_type": "stream",
          "text": [
            "530\n"
          ],
          "name": "stdout"
        }
      ]
    },
    {
      "cell_type": "code",
      "metadata": {
        "colab": {
          "base_uri": "https://localhost:8080/",
          "height": 110
        },
        "id": "5PhlvttAXxit",
        "outputId": "55d62ac5-f780-42a6-fa98-8d32ef82da8d"
      },
      "source": [
        "classical_list = list(data_dir.glob('classical/*'))\n",
        "PIL.Image.open(str(classical_list[0]))"
      ],
      "execution_count": 4,
      "outputs": [
        {
          "output_type": "execute_result",
          "data": {
            "image/png": "[encoded data removed]",
            "text/plain": [
              "<PIL.PngImagePlugin.PngImageFile image mode=L size=1440x106 at 0x7F4E57A974E0>"
            ]
          },
          "metadata": {
            "tags": []
          },
          "execution_count": 4
        }
      ]
    },
    {
      "cell_type": "code",
      "metadata": {
        "colab": {
          "base_uri": "https://localhost:8080/",
          "height": 110
        },
        "id": "qWAUTKHuYE_7",
        "outputId": "4b75fd00-3deb-4c87-9c75-d0d57802ee26"
      },
      "source": [
        "jazz_list = list(data_dir.glob('jazz/*'))\n",
        "PIL.Image.open(str(jazz_list[0]))"
      ],
      "execution_count": 5,
      "outputs": [
        {
          "output_type": "execute_result",
          "data": {
            "image/png": "[encoded data removed]",
            "text/plain": [
              "<PIL.PngImagePlugin.PngImageFile image mode=L size=1440x106 at 0x7F4E22A63B70>"
            ]
          },
          "metadata": {
            "tags": []
          },
          "execution_count": 5
        }
      ]
    },
    {
      "cell_type": "code",
      "metadata": {
        "colab": {
          "base_uri": "https://localhost:8080/"
        },
        "id": "0UlMrXQEaI8P",
        "outputId": "3ff484d1-16ab-4ab9-d1fe-be7a8fb80f27"
      },
      "source": [
        "content_image = np.asarray(PIL.Image.open(str(jazz_list[0])))\n",
        "content_image = content_image[..., np.newaxis]\n",
        "content_image = content_image[np.newaxis, ...]\n",
        "normalization_layer = tf.keras.layers.experimental.preprocessing.Rescaling(1./255)\n",
        "content_image = normalization_layer(content_image)\n",
        "content_image.shape"
      ],
      "execution_count": 6,
      "outputs": [
        {
          "output_type": "execute_result",
          "data": {
            "text/plain": [
              "TensorShape([1, 106, 1440, 1])"
            ]
          },
          "metadata": {
            "tags": []
          },
          "execution_count": 6
        }
      ]
    },
    {
      "cell_type": "code",
      "metadata": {
        "id": "Xi8KzAbcVqhz"
      },
      "source": [
        "batch_size = 32\n",
        "img_height = 107\n",
        "img_width = 720*2"
      ],
      "execution_count": 7,
      "outputs": []
    },
    {
      "cell_type": "code",
      "metadata": {
        "colab": {
          "base_uri": "https://localhost:8080/"
        },
        "id": "ZIQaTcYiYTxj",
        "outputId": "e213a1aa-e046-4738-bb05-052273e27c23"
      },
      "source": [
        "train_ds = tf.keras.preprocessing.image_dataset_from_directory(\n",
        "  data_dir,\n",
        "  validation_split=0.2,\n",
        "  subset=\"training\",\n",
        "  seed=123,\n",
        "  color_mode='grayscale',\n",
        "  image_size=(img_height, img_width),\n",
        "  batch_size=batch_size)"
      ],
      "execution_count": 8,
      "outputs": [
        {
          "output_type": "stream",
          "text": [
            "Found 530 files belonging to 2 classes.\n",
            "Using 424 files for training.\n"
          ],
          "name": "stdout"
        }
      ]
    },
    {
      "cell_type": "code",
      "metadata": {
        "colab": {
          "base_uri": "https://localhost:8080/"
        },
        "id": "OWHuk4sMYjsE",
        "outputId": "9b83ae89-9587-44c6-b28d-743a68f33306"
      },
      "source": [
        "val_ds = tf.keras.preprocessing.image_dataset_from_directory(\n",
        "  data_dir,\n",
        "  validation_split=0.2,\n",
        "  subset=\"validation\",\n",
        "  seed=123,\n",
        "  color_mode='grayscale',\n",
        "  image_size=(img_height, img_width),\n",
        "  batch_size=batch_size)"
      ],
      "execution_count": 9,
      "outputs": [
        {
          "output_type": "stream",
          "text": [
            "Found 530 files belonging to 2 classes.\n",
            "Using 106 files for validation.\n"
          ],
          "name": "stdout"
        }
      ]
    },
    {
      "cell_type": "code",
      "metadata": {
        "colab": {
          "base_uri": "https://localhost:8080/"
        },
        "id": "DZh6MA0oYqpl",
        "outputId": "a2f9e360-cb06-4563-e046-0655cc0d553b"
      },
      "source": [
        "class_names = train_ds.class_names\n",
        "print(class_names)"
      ],
      "execution_count": 10,
      "outputs": [
        {
          "output_type": "stream",
          "text": [
            "['classical', 'jazz']\n"
          ],
          "name": "stdout"
        }
      ]
    },
    {
      "cell_type": "code",
      "metadata": {
        "colab": {
          "base_uri": "https://localhost:8080/"
        },
        "id": "MrahoJcmYttK",
        "outputId": "2d32a719-c157-48f8-a781-0579d5ef079d"
      },
      "source": [
        "for image_batch, labels_batch in train_ds:\n",
        "  print(image_batch.shape)\n",
        "  print(labels_batch.shape)\n",
        "  break"
      ],
      "execution_count": 11,
      "outputs": [
        {
          "output_type": "stream",
          "text": [
            "(32, 107, 1440, 1)\n",
            "(32,)\n"
          ],
          "name": "stdout"
        }
      ]
    },
    {
      "cell_type": "code",
      "metadata": {
        "id": "EpVGbNoAY1M3"
      },
      "source": [
        "normalization_layer = tf.keras.layers.experimental.preprocessing.Rescaling(1./255)\n"
      ],
      "execution_count": 12,
      "outputs": []
    },
    {
      "cell_type": "code",
      "metadata": {
        "colab": {
          "base_uri": "https://localhost:8080/"
        },
        "id": "i60RogtsdBra",
        "outputId": "d7756835-ebf3-4648-e282-1ebd00539fb6"
      },
      "source": [
        "normalized_ds = train_ds.map(lambda x, y: (normalization_layer(x), y))\n",
        "image_batch, labels_batch = next(iter(normalized_ds))\n",
        "first_image = image_batch[0]\n",
        "# Notice the pixels values are now in `[0,1]`.\n",
        "print(np.min(first_image), np.max(first_image))"
      ],
      "execution_count": 13,
      "outputs": [
        {
          "output_type": "stream",
          "text": [
            "0.0 1.0\n"
          ],
          "name": "stdout"
        }
      ]
    },
    {
      "cell_type": "code",
      "metadata": {
        "id": "-WE3i1LGdFQj"
      },
      "source": [
        "AUTOTUNE = tf.data.experimental.AUTOTUNE\n",
        "\n",
        "train_ds = train_ds.cache().prefetch(buffer_size=AUTOTUNE)\n",
        "val_ds = val_ds.cache().prefetch(buffer_size=AUTOTUNE)"
      ],
      "execution_count": 14,
      "outputs": []
    },
    {
      "cell_type": "markdown",
      "metadata": {
        "id": "P3PJ37XndOZH"
      },
      "source": [
        "## Train genre classifier model\n",
        "\n",
        "We train a simple CNN to perform genre classification that will later be used as feature extractor for the style transfer"
      ]
    },
    {
      "cell_type": "code",
      "metadata": {
        "id": "W_Duw8ECdNzC"
      },
      "source": [
        "num_classes = 2\n",
        "inputs = tf.keras.Input(shape=(107, 720*2, 1), name='input')\n",
        "x = layers.Conv1D(32, 5, activation='relu', name = 'block1_conv1', padding='same')(inputs)\n",
        "x = layers.Conv1D(32, 5, activation='relu', name = 'block1_conv2', padding='same')(x)\n",
        "x = layers.AveragePooling2D(name = 'avg_pool1')(x)\n",
        "x = layers.Conv1D(32, 3, activation='relu', name = 'block2_conv1', padding='same')(x)\n",
        "x = layers.Conv1D(32, 3, activation='relu', name = 'block2_conv2', padding='same')(x)\n",
        "x = layers.AveragePooling2D(name = 'avg_pool2')(x)\n",
        "x = layers.Conv1D(32, 3, activation='relu', name = 'block3_conv1', padding='same')(x)\n",
        "x = layers.Conv1D(32, 3, activation='relu', name = 'block3_conv2', padding='same')(x)\n",
        "x = layers.AveragePooling2D(name = 'avg_pool3')(x)\n",
        "x = layers.Conv1D(32, 3, activation='relu', name = 'block4_conv1', padding='same')(x)\n",
        "x = layers.Conv1D(32, 3, activation='relu', name = 'block4_conv2', padding='same')(x)\n",
        "x = layers.AveragePooling2D(name = 'avg_pool4')(x)\n",
        "x = layers.Flatten(name = 'flatten')(x)\n",
        "x = layers.Dense(64, activation='relu', name = 'dense1')(x)\n",
        "outputs = layers.Dense(num_classes, name = 'dense2')(x)\n",
        "model = tf.keras.Model(inputs=inputs, outputs=outputs, name=\"genre_classifier\")"
      ],
      "execution_count": 15,
      "outputs": []
    },
    {
      "cell_type": "code",
      "metadata": {
        "id": "gnk2KkcvdWql"
      },
      "source": [
        "model.compile(\n",
        "  optimizer='adam',\n",
        "  loss=tf.losses.SparseCategoricalCrossentropy(from_logits=True),\n",
        "  metrics=['accuracy'])"
      ],
      "execution_count": 16,
      "outputs": []
    },
    {
      "cell_type": "code",
      "metadata": {
        "colab": {
          "base_uri": "https://localhost:8080/"
        },
        "id": "v-pfZi8gdZCq",
        "outputId": "02a41b23-6636-4c91-994d-27f633208052"
      },
      "source": [
        "model.fit(\n",
        "  train_ds,\n",
        "  validation_data=val_ds,\n",
        "  epochs=30\n",
        ")"
      ],
      "execution_count": 17,
      "outputs": [
        {
          "output_type": "stream",
          "text": [
            "Epoch 1/30\n",
            "14/14 [==============================] - 5s 329ms/step - loss: 0.5451 - accuracy: 0.7358 - val_loss: 0.3818 - val_accuracy: 0.8585\n",
            "Epoch 2/30\n",
            "14/14 [==============================] - 4s 257ms/step - loss: 0.3625 - accuracy: 0.8679 - val_loss: 0.3269 - val_accuracy: 0.8679\n",
            "Epoch 3/30\n",
            "14/14 [==============================] - 4s 258ms/step - loss: 0.2295 - accuracy: 0.9127 - val_loss: 0.3290 - val_accuracy: 0.8491\n",
            "Epoch 4/30\n",
            "14/14 [==============================] - 4s 259ms/step - loss: 0.1760 - accuracy: 0.9316 - val_loss: 0.2927 - val_accuracy: 0.8774\n",
            "Epoch 5/30\n",
            "14/14 [==============================] - 4s 260ms/step - loss: 0.0977 - accuracy: 0.9599 - val_loss: 0.3376 - val_accuracy: 0.8868\n",
            "Epoch 6/30\n",
            "14/14 [==============================] - 4s 260ms/step - loss: 0.0268 - accuracy: 0.9906 - val_loss: 0.7722 - val_accuracy: 0.8113\n",
            "Epoch 7/30\n",
            "14/14 [==============================] - 4s 261ms/step - loss: 0.0830 - accuracy: 0.9670 - val_loss: 0.5637 - val_accuracy: 0.9057\n",
            "Epoch 8/30\n",
            "14/14 [==============================] - 4s 262ms/step - loss: 0.0674 - accuracy: 0.9811 - val_loss: 0.4584 - val_accuracy: 0.8585\n",
            "Epoch 9/30\n",
            "14/14 [==============================] - 4s 261ms/step - loss: 0.0205 - accuracy: 0.9953 - val_loss: 0.6581 - val_accuracy: 0.8491\n",
            "Epoch 10/30\n",
            "14/14 [==============================] - 4s 261ms/step - loss: 0.0123 - accuracy: 0.9976 - val_loss: 0.6608 - val_accuracy: 0.8868\n",
            "Epoch 11/30\n",
            "14/14 [==============================] - 4s 259ms/step - loss: 0.0041 - accuracy: 1.0000 - val_loss: 0.7258 - val_accuracy: 0.8868\n",
            "Epoch 12/30\n",
            "14/14 [==============================] - 4s 257ms/step - loss: 0.0140 - accuracy: 0.9953 - val_loss: 0.7861 - val_accuracy: 0.8679\n",
            "Epoch 13/30\n",
            "14/14 [==============================] - 4s 257ms/step - loss: 1.4951e-04 - accuracy: 1.0000 - val_loss: 0.7725 - val_accuracy: 0.8679\n",
            "Epoch 14/30\n",
            "14/14 [==============================] - 4s 256ms/step - loss: 0.0012 - accuracy: 1.0000 - val_loss: 0.8988 - val_accuracy: 0.8679\n",
            "Epoch 15/30\n",
            "14/14 [==============================] - 4s 256ms/step - loss: 1.0181e-04 - accuracy: 1.0000 - val_loss: 0.8982 - val_accuracy: 0.8679\n",
            "Epoch 16/30\n",
            "14/14 [==============================] - 4s 256ms/step - loss: 4.7663e-05 - accuracy: 1.0000 - val_loss: 0.8826 - val_accuracy: 0.8679\n",
            "Epoch 17/30\n",
            "14/14 [==============================] - 4s 254ms/step - loss: 3.4084e-05 - accuracy: 1.0000 - val_loss: 0.8751 - val_accuracy: 0.8679\n",
            "Epoch 18/30\n",
            "14/14 [==============================] - 4s 255ms/step - loss: 2.8732e-05 - accuracy: 1.0000 - val_loss: 0.8728 - val_accuracy: 0.8774\n",
            "Epoch 19/30\n",
            "14/14 [==============================] - 4s 255ms/step - loss: 2.5656e-05 - accuracy: 1.0000 - val_loss: 0.8729 - val_accuracy: 0.8774\n",
            "Epoch 20/30\n",
            "14/14 [==============================] - 4s 255ms/step - loss: 2.3428e-05 - accuracy: 1.0000 - val_loss: 0.8743 - val_accuracy: 0.8774\n",
            "Epoch 21/30\n",
            "14/14 [==============================] - 4s 254ms/step - loss: 2.1625e-05 - accuracy: 1.0000 - val_loss: 0.8764 - val_accuracy: 0.8774\n",
            "Epoch 22/30\n",
            "14/14 [==============================] - 4s 255ms/step - loss: 2.0092e-05 - accuracy: 1.0000 - val_loss: 0.8790 - val_accuracy: 0.8774\n",
            "Epoch 23/30\n",
            "14/14 [==============================] - 4s 256ms/step - loss: 1.8756e-05 - accuracy: 1.0000 - val_loss: 0.8818 - val_accuracy: 0.8774\n",
            "Epoch 24/30\n",
            "14/14 [==============================] - 4s 256ms/step - loss: 1.7568e-05 - accuracy: 1.0000 - val_loss: 0.8848 - val_accuracy: 0.8774\n",
            "Epoch 25/30\n",
            "14/14 [==============================] - 4s 257ms/step - loss: 1.6502e-05 - accuracy: 1.0000 - val_loss: 0.8879 - val_accuracy: 0.8774\n",
            "Epoch 26/30\n",
            "14/14 [==============================] - 4s 257ms/step - loss: 1.5532e-05 - accuracy: 1.0000 - val_loss: 0.8910 - val_accuracy: 0.8774\n",
            "Epoch 27/30\n",
            "14/14 [==============================] - 4s 257ms/step - loss: 1.4653e-05 - accuracy: 1.0000 - val_loss: 0.8943 - val_accuracy: 0.8774\n",
            "Epoch 28/30\n",
            "14/14 [==============================] - 4s 257ms/step - loss: 1.3845e-05 - accuracy: 1.0000 - val_loss: 0.8975 - val_accuracy: 0.8774\n",
            "Epoch 29/30\n",
            "14/14 [==============================] - 4s 258ms/step - loss: 1.3104e-05 - accuracy: 1.0000 - val_loss: 0.9007 - val_accuracy: 0.8774\n",
            "Epoch 30/30\n",
            "14/14 [==============================] - 4s 257ms/step - loss: 1.2420e-05 - accuracy: 1.0000 - val_loss: 0.9039 - val_accuracy: 0.8774\n"
          ],
          "name": "stdout"
        },
        {
          "output_type": "execute_result",
          "data": {
            "text/plain": [
              "<tensorflow.python.keras.callbacks.History at 0x7f4e10052dd8>"
            ]
          },
          "metadata": {
            "tags": []
          },
          "execution_count": 17
        }
      ]
    },
    {
      "cell_type": "code",
      "metadata": {
        "colab": {
          "base_uri": "https://localhost:8080/"
        },
        "id": "PyYH3w2fkow9",
        "outputId": "17d99b01-aa83-4c79-fb84-c037b8d65a22"
      },
      "source": [
        "model.summary()"
      ],
      "execution_count": 18,
      "outputs": [
        {
          "output_type": "stream",
          "text": [
            "Model: \"genre_classifier\"\n",
            "_________________________________________________________________\n",
            "Layer (type)                 Output Shape              Param #   \n",
            "=================================================================\n",
            "input (InputLayer)           [(None, 107, 1440, 1)]    0         \n",
            "_________________________________________________________________\n",
            "block1_conv1 (Conv1D)        (None, 107, 1440, 32)     192       \n",
            "_________________________________________________________________\n",
            "block1_conv2 (Conv1D)        (None, 107, 1440, 32)     5152      \n",
            "_________________________________________________________________\n",
            "avg_pool1 (AveragePooling2D) (None, 53, 720, 32)       0         \n",
            "_________________________________________________________________\n",
            "block2_conv1 (Conv1D)        (None, 53, 720, 32)       3104      \n",
            "_________________________________________________________________\n",
            "block2_conv2 (Conv1D)        (None, 53, 720, 32)       3104      \n",
            "_________________________________________________________________\n",
            "avg_pool2 (AveragePooling2D) (None, 26, 360, 32)       0         \n",
            "_________________________________________________________________\n",
            "block3_conv1 (Conv1D)        (None, 26, 360, 32)       3104      \n",
            "_________________________________________________________________\n",
            "block3_conv2 (Conv1D)        (None, 26, 360, 32)       3104      \n",
            "_________________________________________________________________\n",
            "avg_pool3 (AveragePooling2D) (None, 13, 180, 32)       0         \n",
            "_________________________________________________________________\n",
            "block4_conv1 (Conv1D)        (None, 13, 180, 32)       3104      \n",
            "_________________________________________________________________\n",
            "block4_conv2 (Conv1D)        (None, 13, 180, 32)       3104      \n",
            "_________________________________________________________________\n",
            "avg_pool4 (AveragePooling2D) (None, 6, 90, 32)         0         \n",
            "_________________________________________________________________\n",
            "flatten (Flatten)            (None, 17280)             0         \n",
            "_________________________________________________________________\n",
            "dense1 (Dense)               (None, 64)                1105984   \n",
            "_________________________________________________________________\n",
            "dense2 (Dense)               (None, 2)                 130       \n",
            "=================================================================\n",
            "Total params: 1,130,082\n",
            "Trainable params: 1,130,082\n",
            "Non-trainable params: 0\n",
            "_________________________________________________________________\n"
          ],
          "name": "stdout"
        }
      ]
    },
    {
      "cell_type": "code",
      "metadata": {
        "colab": {
          "base_uri": "https://localhost:8080/",
          "height": 1000
        },
        "id": "VfHr8YRcgdKx",
        "outputId": "833d8ba0-36ff-4dd3-add0-87bfabca86fd"
      },
      "source": [
        "dot_img_file = 'model_1.png'\n",
        "tf.keras.utils.plot_model(model, to_file=dot_img_file, show_shapes=False)"
      ],
      "execution_count": 19,
      "outputs": [
        {
          "output_type": "execute_result",
          "data": {
            "image/png": "[encoded data removed]",
            "text/plain": [
              "<IPython.core.display.Image object>"
            ]
          },
          "metadata": {
            "tags": []
          },
          "execution_count": 19
        }
      ]
    },
    {
      "cell_type": "code",
      "metadata": {
        "colab": {
          "base_uri": "https://localhost:8080/"
        },
        "id": "5GJHKQs6db0d",
        "outputId": "3fcd2eba-77d4-4597-fec8-a217d1de08b0"
      },
      "source": [
        "print()\n",
        "for layer in model.layers:\n",
        "  print(layer.name)"
      ],
      "execution_count": 20,
      "outputs": [
        {
          "output_type": "stream",
          "text": [
            "\n",
            "input\n",
            "block1_conv1\n",
            "block1_conv2\n",
            "avg_pool1\n",
            "block2_conv1\n",
            "block2_conv2\n",
            "avg_pool2\n",
            "block3_conv1\n",
            "block3_conv2\n",
            "avg_pool3\n",
            "block4_conv1\n",
            "block4_conv2\n",
            "avg_pool4\n",
            "flatten\n",
            "dense1\n",
            "dense2\n"
          ],
          "name": "stdout"
        }
      ]
    },
    {
      "cell_type": "markdown",
      "metadata": {
        "id": "6x1gwyOsddr-"
      },
      "source": [
        "### Define content and style layers"
      ]
    },
    {
      "cell_type": "code",
      "metadata": {
        "id": "sxyMREX16Y7B"
      },
      "source": [
        "content_layers = ['block4_conv2'] \n",
        "\n",
        "style_layers = ['block1_conv1',\n",
        "                'block2_conv1',\n",
        "                'block3_conv1']\n",
        "\n",
        "num_content_layers = len(content_layers)\n",
        "num_style_layers = len(style_layers)"
      ],
      "execution_count": 21,
      "outputs": []
    },
    {
      "cell_type": "code",
      "metadata": {
        "id": "SbHCtPT3hbVj"
      },
      "source": [
        "def model_layers(layer_names, model):\n",
        "  \"\"\" Creates a vgg model that returns a list of intermediate output values.\"\"\"\n",
        "  model.trainable = False\n",
        "  \n",
        "  outputs = [model.get_layer(name).output for name in layer_names]\n",
        "\n",
        "  style_model = tf.keras.Model([model.inputs], outputs)\n",
        "  return style_model"
      ],
      "execution_count": 22,
      "outputs": []
    },
    {
      "cell_type": "markdown",
      "metadata": {
        "id": "Nc4XFI21d4cI"
      },
      "source": [
        "### Style Image\n",
        "\n",
        "We use a simple style image to test out the style transfer model. Here the style image represents a monotonic battle where one player gradually dominates the other. Style image can be modifed with relevant metrics to match the game context."
      ]
    },
    {
      "cell_type": "code",
      "metadata": {
        "colab": {
          "base_uri": "https://localhost:8080/",
          "height": 76
        },
        "id": "vxIWK8JPHpU8",
        "outputId": "a1ad3e58-ee35-4b50-8fd1-5e8ce6164110"
      },
      "source": [
        "from PIL import Image\n",
        "import numpy as np\n",
        "\n",
        "w, h = 720*2, 1\n",
        "x = np.linspace(0.3, 0.9, w) # Use game evaluations here\n",
        "# x = np.linspace(0, 8*np.pi*w, w) # Use game evaluations here\n",
        "# x = np.sin(x)\n",
        "# x = np.ones(w) # Use game evaluations here\n",
        "style_image = np.tile(x, (w, 1))\n",
        "style_image = style_image[:106, :]\n",
        "plt.imshow(style_image, cmap='gray')\n",
        "plt.show()"
      ],
      "execution_count": 23,
      "outputs": [
        {
          "output_type": "display_data",
          "data": {
            "image/png": "[encoded data removed]",
            "text/plain": [
              "<Figure size 432x288 with 1 Axes>"
            ]
          },
          "metadata": {
            "tags": [],
            "needs_background": "light"
          }
        }
      ]
    },
    {
      "cell_type": "code",
      "metadata": {
        "colab": {
          "base_uri": "https://localhost:8080/"
        },
        "id": "QT03zdwPSx-q",
        "outputId": "6eb0e55d-40bb-484d-bd55-d95ab2dd1f62"
      },
      "source": [
        "style_image = style_image[..., np.newaxis]\n",
        "style_image = style_image[np.newaxis, ...]\n",
        "style_image.shape"
      ],
      "execution_count": 24,
      "outputs": [
        {
          "output_type": "execute_result",
          "data": {
            "text/plain": [
              "(1, 106, 1440, 1)"
            ]
          },
          "metadata": {
            "tags": []
          },
          "execution_count": 24
        }
      ]
    },
    {
      "cell_type": "code",
      "metadata": {
        "colab": {
          "base_uri": "https://localhost:8080/"
        },
        "id": "OT_PrwyNTOnp",
        "outputId": "8af740bf-f4b9-4ab3-ff56-050fac508d55"
      },
      "source": [
        "print(style_image.shape)\n",
        "print(content_image.shape)"
      ],
      "execution_count": 25,
      "outputs": [
        {
          "output_type": "stream",
          "text": [
            "(1, 106, 1440, 1)\n",
            "(1, 106, 1440, 1)\n"
          ],
          "name": "stdout"
        }
      ]
    },
    {
      "cell_type": "code",
      "metadata": {
        "id": "F7E-MbUiegXf"
      },
      "source": [
        "def tensor_to_image(tensor):\n",
        "  tensor = tensor*255\n",
        "  tensor = np.array(tensor, dtype=np.uint8)\n",
        "  # tensor = enhance_contrast(tensor)\n",
        "  # tensor = binarize(tensor)\n",
        "  if np.ndim(tensor)>3:\n",
        "    assert tensor.shape[0] == 1\n",
        "    tensor = tensor[0]\n",
        "  return PIL.Image.fromarray(tensor[...,0], 'L')"
      ],
      "execution_count": 26,
      "outputs": []
    },
    {
      "cell_type": "markdown",
      "metadata": {
        "id": "H61FLH6keTSV"
      },
      "source": [
        "### Simple superpostion\n",
        "\n",
        "We use a simple superpositon of the two images as a baseline"
      ]
    },
    {
      "cell_type": "code",
      "metadata": {
        "colab": {
          "base_uri": "https://localhost:8080/",
          "height": 110
        },
        "id": "IDU_6YAdTlz_",
        "outputId": "42a0957f-c41e-45ab-c22f-e395daa4330f"
      },
      "source": [
        "comb_image = style_image*content_image\n",
        "# plt.imshow(comb_image[0, ..., 0], cmap='gray')\n",
        "# plt.show()\n",
        "tensor_to_image(comb_image[0, ...])"
      ],
      "execution_count": 27,
      "outputs": [
        {
          "output_type": "execute_result",
          "data": {
            "image/png": "[encoded data removed]",
            "text/plain": [
              "<PIL.Image.Image image mode=L size=1440x106 at 0x7F4DC61EAB38>"
            ]
          },
          "metadata": {
            "tags": []
          },
          "execution_count": 27
        }
      ]
    },
    {
      "cell_type": "code",
      "metadata": {
        "colab": {
          "base_uri": "https://localhost:8080/"
        },
        "id": "yXvnuQ5H77Bz",
        "outputId": "d764a042-d04c-4a0d-afb1-4effaa3dcad4"
      },
      "source": [
        "style_extractor = model_layers(style_layers, model)\n",
        "style_outputs = style_extractor(style_image*255)\n",
        "\n",
        "#Look at the statistics of each layer's output\n",
        "for name, output in zip(style_layers, style_outputs):\n",
        "  print(name)\n",
        "  print(\"  shape: \", output.numpy().shape)\n",
        "  print(\"  min: \", output.numpy().min())\n",
        "  print(\"  max: \", output.numpy().max())\n",
        "  print(\"  mean: \", output.numpy().mean())\n",
        "  print()"
      ],
      "execution_count": 28,
      "outputs": [
        {
          "output_type": "stream",
          "text": [
            "block1_conv1\n",
            "  shape:  (1, 106, 1440, 32)\n",
            "  min:  0.0\n",
            "  max:  119.81703\n",
            "  mean:  12.296399\n",
            "\n",
            "block2_conv1\n",
            "  shape:  (1, 53, 720, 32)\n",
            "  min:  0.0\n",
            "  max:  71.38981\n",
            "  mean:  8.190309\n",
            "\n",
            "block3_conv1\n",
            "  shape:  (1, 26, 360, 32)\n",
            "  min:  0.0\n",
            "  max:  51.807053\n",
            "  mean:  7.915393\n",
            "\n"
          ],
          "name": "stdout"
        }
      ]
    },
    {
      "cell_type": "code",
      "metadata": {
        "id": "s7Ywj5OSFuH3"
      },
      "source": [
        "def gram_matrix(input_tensor):\n",
        "  result = tf.linalg.einsum('bijc,bijd->bcd', input_tensor, input_tensor)\n",
        "  input_shape = tf.shape(input_tensor)\n",
        "  num_locations = tf.cast(input_shape[1]*input_shape[2], tf.float32)\n",
        "  return result/(num_locations)"
      ],
      "execution_count": 29,
      "outputs": []
    },
    {
      "cell_type": "markdown",
      "metadata": {
        "id": "FnkNRYSpedi3"
      },
      "source": [
        "## Define the style transfer model\n"
      ]
    },
    {
      "cell_type": "code",
      "metadata": {
        "id": "nN6jbgfbZO0a"
      },
      "source": [
        "class StyleContentModel(tf.keras.models.Model):\n",
        "  def __init__(self, style_layers, content_layers):\n",
        "    super(StyleContentModel, self).__init__()\n",
        "    self.model =  model_layers(style_layers + content_layers, model)\n",
        "    self.style_layers = style_layers\n",
        "    self.content_layers = content_layers\n",
        "    self.num_style_layers = len(style_layers)\n",
        "    self.model.trainable = False\n",
        "\n",
        "  def call(self, inputs):\n",
        "    \"Expects float input in [0,1]\"\n",
        "    inputs = inputs*255.0\n",
        "    # preprocessed_input = tf.keras.applications.vgg19.preprocess_input(inputs)\n",
        "    outputs = self.model(inputs)\n",
        "    style_outputs, content_outputs = (outputs[:self.num_style_layers], \n",
        "                                      outputs[self.num_style_layers:])\n",
        "\n",
        "    #style_outputs = [gram_matrix(style_output)\n",
        "    #                 for style_output in style_outputs]\n",
        "    style_outputs = [gram_matrix(style_output)\n",
        "                     for style_output in style_outputs]\n",
        "\n",
        "    content_dict = {content_name:value \n",
        "                    for content_name, value \n",
        "                    in zip(self.content_layers, content_outputs)}\n",
        "\n",
        "    style_dict = {style_name:value\n",
        "                  for style_name, value\n",
        "                  in zip(self.style_layers, style_outputs)}\n",
        "    \n",
        "    return {'content':content_dict, 'style':style_dict}"
      ],
      "execution_count": 30,
      "outputs": []
    },
    {
      "cell_type": "code",
      "metadata": {
        "colab": {
          "base_uri": "https://localhost:8080/"
        },
        "id": "64XToEqdZTPj",
        "outputId": "f683e09d-3458-4930-cef0-e217dd47b4d2"
      },
      "source": [
        "extractor = StyleContentModel(style_layers, content_layers)\n",
        "\n",
        "results = extractor(tf.constant(content_image))\n",
        "\n",
        "print('Styles:')\n",
        "for name, output in sorted(results['style'].items()):\n",
        "  print(\"  \", name)\n",
        "  print(\"    shape: \", output.numpy().shape)\n",
        "  print(\"    min: \", output.numpy().min())\n",
        "  print(\"    max: \", output.numpy().max())\n",
        "  print(\"    mean: \", output.numpy().mean())\n",
        "  print()\n",
        "\n",
        "print(\"Contents:\")\n",
        "for name, output in sorted(results['content'].items()):\n",
        "  print(\"  \", name)\n",
        "  print(\"    shape: \", output.numpy().shape)\n",
        "  print(\"    min: \", output.numpy().min())\n",
        "  print(\"    max: \", output.numpy().max())\n",
        "  print(\"    mean: \", output.numpy().mean())"
      ],
      "execution_count": 31,
      "outputs": [
        {
          "output_type": "stream",
          "text": [
            "Styles:\n",
            "   block1_conv1\n",
            "    shape:  (1, 32, 32)\n",
            "    min:  0.0\n",
            "    max:  307.62723\n",
            "    mean:  11.338758\n",
            "\n",
            "   block2_conv1\n",
            "    shape:  (1, 32, 32)\n",
            "    min:  0.0\n",
            "    max:  65.96168\n",
            "    mean:  2.0338087\n",
            "\n",
            "   block3_conv1\n",
            "    shape:  (1, 32, 32)\n",
            "    min:  0.0\n",
            "    max:  16.146461\n",
            "    mean:  1.2849333\n",
            "\n",
            "Contents:\n",
            "   block4_conv2\n",
            "    shape:  (1, 13, 180, 32)\n",
            "    min:  0.0\n",
            "    max:  13.841586\n",
            "    mean:  0.2503317\n"
          ],
          "name": "stdout"
        }
      ]
    },
    {
      "cell_type": "code",
      "metadata": {
        "colab": {
          "base_uri": "https://localhost:8080/"
        },
        "id": "ru12ctRIZ0b2",
        "outputId": "6bfa3e7f-146c-4ca5-a25f-aa4f435fa2bd"
      },
      "source": [
        "style_targets = extractor(style_image)['style']\n",
        "content_targets = extractor(content_image)['content']"
      ],
      "execution_count": 32,
      "outputs": [
        {
          "output_type": "stream",
          "text": [
            "WARNING:tensorflow:Layer style_content_model is casting an input tensor from dtype float64 to the layer's dtype of float32, which is new behavior in TensorFlow 2.  The layer has dtype float32 because its dtype defaults to floatx.\n",
            "\n",
            "If you intended to run this layer in float32, you can safely ignore this warning. If in doubt, this warning is likely only an issue if you are porting a TensorFlow 1.X model to TensorFlow 2.\n",
            "\n",
            "To change all layers to have dtype float64 by default, call `tf.keras.backend.set_floatx('float64')`. To change just this layer, pass dtype='float64' to the layer constructor. If you are the author of this layer, you can disable autocasting by passing autocast=False to the base Layer constructor.\n",
            "\n"
          ],
          "name": "stdout"
        }
      ]
    },
    {
      "cell_type": "code",
      "metadata": {
        "id": "zp0xNDuwbKRL"
      },
      "source": [
        "image = tf.Variable(content_image)"
      ],
      "execution_count": 33,
      "outputs": []
    },
    {
      "cell_type": "code",
      "metadata": {
        "id": "pv6cqxf2bNHo"
      },
      "source": [
        "def clip_0_1(image):\n",
        "  return tf.clip_by_value(image, clip_value_min=0.0, clip_value_max=1.0)"
      ],
      "execution_count": 34,
      "outputs": []
    },
    {
      "cell_type": "code",
      "metadata": {
        "id": "E5Ju-5bNbPPF"
      },
      "source": [
        "opt = tf.optimizers.Adam(learning_rate=0.02, beta_1=0.99, epsilon=1e-1)"
      ],
      "execution_count": 35,
      "outputs": []
    },
    {
      "cell_type": "code",
      "metadata": {
        "id": "eOryE-UbbRVk"
      },
      "source": [
        "style_weight=5e-2\n",
        "content_weight=1e4"
      ],
      "execution_count": 36,
      "outputs": []
    },
    {
      "cell_type": "code",
      "metadata": {
        "id": "KfcCyJytbUQt"
      },
      "source": [
        "def style_content_loss(outputs):\n",
        "    style_outputs = outputs['style']\n",
        "    content_outputs = outputs['content']\n",
        "    style_loss = tf.add_n([tf.reduce_mean((style_outputs[name]-style_targets[name])**2) \n",
        "                           for name in style_outputs.keys()])\n",
        "    style_loss *= style_weight / num_style_layers\n",
        "\n",
        "    content_loss = tf.add_n([tf.reduce_mean((content_outputs[name]-content_targets[name])**2) \n",
        "                             for name in content_outputs.keys()])\n",
        "    content_loss *= content_weight / num_content_layers\n",
        "    loss = style_loss + content_loss\n",
        "    return loss"
      ],
      "execution_count": 37,
      "outputs": []
    },
    {
      "cell_type": "code",
      "metadata": {
        "id": "qtT5ORBBbWXv"
      },
      "source": [
        "@tf.function()\n",
        "def train_step(image):\n",
        "  with tf.GradientTape() as tape:\n",
        "    outputs = extractor(image)\n",
        "    loss = style_content_loss(outputs)\n",
        "\n",
        "  grad = tape.gradient(loss, image)\n",
        "  opt.apply_gradients([(grad, image)])\n",
        "  image.assign(clip_0_1(image))"
      ],
      "execution_count": 38,
      "outputs": []
    },
    {
      "cell_type": "code",
      "metadata": {
        "id": "IwjF3v36tsjj"
      },
      "source": [
        "def enhance_contrast(image):\n",
        "  # Get brightness range - i.e. darkest and lightest pixels\n",
        "  min=np.min(image)        # result=144\n",
        "  max=np.max(image)        # result=216\n",
        "\n",
        "  # Make a LUT (Look-Up Table) to translate image values\n",
        "  LUT=np.zeros(256,dtype=np.uint8)\n",
        "  LUT[min:max+1]=np.linspace(start=0,stop=255,num=(max-min)+1,endpoint=True,dtype=np.uint8)\n",
        "  return LUT[image]"
      ],
      "execution_count": 39,
      "outputs": []
    },
    {
      "cell_type": "code",
      "metadata": {
        "id": "jqNHmYWf8IJg"
      },
      "source": [
        "def binarize(img, threshold=150):\n",
        "  binarized = 1.0 * (img > threshold)\n",
        "  return binarized"
      ],
      "execution_count": 40,
      "outputs": []
    },
    {
      "cell_type": "markdown",
      "metadata": {
        "id": "6aOIHnliepHn"
      },
      "source": [
        "### Run the style transfer model on a sample image"
      ]
    },
    {
      "cell_type": "code",
      "metadata": {
        "colab": {
          "base_uri": "https://localhost:8080/",
          "height": 164
        },
        "id": "0PeOn45DbYU2",
        "outputId": "95e56adf-c305-4b54-cbd7-3da393ff11c8"
      },
      "source": [
        "train_step(image)\n",
        "train_step(image)\n",
        "train_step(image)\n",
        "tensor_to_image(image)"
      ],
      "execution_count": 41,
      "outputs": [
        {
          "output_type": "stream",
          "text": [
            "WARNING:tensorflow:Model was constructed with shape (None, 107, 1440, 1) for input Tensor(\"input:0\", shape=(None, 107, 1440, 1), dtype=float32), but it was called on an input with incompatible shape (1, 106, 1440, 1).\n",
            "WARNING:tensorflow:Model was constructed with shape (None, 107, 1440, 1) for input Tensor(\"input:0\", shape=(None, 107, 1440, 1), dtype=float32), but it was called on an input with incompatible shape (1, 106, 1440, 1).\n"
          ],
          "name": "stdout"
        },
        {
          "output_type": "execute_result",
          "data": {
            "image/png": "[encoded data removed]",
            "text/plain": [
              "<PIL.Image.Image image mode=L size=1440x106 at 0x7F4DC62036D8>"
            ]
          },
          "metadata": {
            "tags": []
          },
          "execution_count": 41
        }
      ]
    },
    {
      "cell_type": "code",
      "metadata": {
        "colab": {
          "base_uri": "https://localhost:8080/",
          "height": 144
        },
        "id": "KV_id8PNbbGj",
        "outputId": "836dfb27-299b-4307-c8f9-5d2d2f96c5df"
      },
      "source": [
        "import time\n",
        "start = time.time()\n",
        "\n",
        "epochs = 10\n",
        "steps_per_epoch = 100\n",
        "\n",
        "step = 0\n",
        "for n in range(epochs):\n",
        "  for m in range(steps_per_epoch):\n",
        "    step += 1\n",
        "    train_step(image)\n",
        "    print(\".\", end='')\n",
        "  display.clear_output(wait=True)\n",
        "  display.display(tensor_to_image(image))\n",
        "  print(\"Train step: {}\".format(step))\n",
        "  \n",
        "end = time.time()\n",
        "print(\"Total time: {:.1f}\".format(end-start))"
      ],
      "execution_count": 42,
      "outputs": [
        {
          "output_type": "display_data",
          "data": {
            "image/png": "[encoded data removed]",
            "text/plain": [
              "<PIL.Image.Image image mode=L size=1440x106 at 0x7F4DBEA72F98>"
            ]
          },
          "metadata": {
            "tags": []
          }
        },
        {
          "output_type": "stream",
          "text": [
            "Train step: 1000\n",
            "Total time: 8.0\n"
          ],
          "name": "stdout"
        }
      ]
    },
    {
      "cell_type": "code",
      "metadata": {
        "colab": {
          "base_uri": "https://localhost:8080/",
          "height": 35
        },
        "id": "X6faE_bqQ9q7",
        "outputId": "35f8ef67-c244-44c7-f713-46bf5ab98721"
      },
      "source": [
        "file_name = 'stylized-image.png'\n",
        "tensor_to_image(image).save(file_name)\n",
        "\"\"\"\n",
        "try:\n",
        "  from google.colab import files\n",
        "except ImportError:\n",
        "   pass\n",
        "else:\n",
        "  files.download(file_name)\n",
        "\"\"\""
      ],
      "execution_count": 43,
      "outputs": [
        {
          "output_type": "execute_result",
          "data": {
            "application/vnd.google.colaboratory.intrinsic+json": {
              "type": "string"
            },
            "text/plain": [
              "'\\ntry:\\n  from google.colab import files\\nexcept ImportError:\\n   pass\\nelse:\\n  files.download(file_name)\\n'"
            ]
          },
          "metadata": {
            "tags": []
          },
          "execution_count": 43
        }
      ]
    },
    {
      "cell_type": "code",
      "metadata": {
        "id": "kLfJ4H8NZ2ZH"
      },
      "source": [
        "from pathlib import Path"
      ],
      "execution_count": 44,
      "outputs": []
    },
    {
      "cell_type": "markdown",
      "metadata": {
        "id": "J3LHOeY1evCW"
      },
      "source": [
        "### Run superposition on all the images"
      ]
    },
    {
      "cell_type": "code",
      "metadata": {
        "id": "6rCpWgOCP_Dn"
      },
      "source": [
        "Path(\"out_superposed/classical/\").mkdir(parents=True, exist_ok=True)\n",
        "for img_path in classical_list:\n",
        "  content_image = np.asarray(PIL.Image.open(str(img_path)))\n",
        "  content_image = content_image[..., np.newaxis]\n",
        "  content_image = content_image[np.newaxis, ...]\n",
        "  normalization_layer = tf.keras.layers.experimental.preprocessing.Rescaling(1./255)\n",
        "  content_image = normalization_layer(content_image)\n",
        "  comb_image = style_image*content_image\n",
        "  tensor_to_image(comb_image[0, ...]).save(\"out_superposed/classical/\" + os.path.split(img_path)[1])\n",
        "  "
      ],
      "execution_count": 45,
      "outputs": []
    },
    {
      "cell_type": "code",
      "metadata": {
        "id": "MYSjBaMBaBgw"
      },
      "source": [
        "Path(\"out_superposed/jazz/\").mkdir(parents=True, exist_ok=True)\n",
        "for img_path in jazz_list:\n",
        "  content_image = np.asarray(PIL.Image.open(str(img_path)))\n",
        "  content_image = content_image[..., np.newaxis]\n",
        "  content_image = content_image[np.newaxis, ...]\n",
        "  normalization_layer = tf.keras.layers.experimental.preprocessing.Rescaling(1./255)\n",
        "  content_image = normalization_layer(content_image)\n",
        "  comb_image = style_image*content_image\n",
        "  tensor_to_image(comb_image[0, ...]).save(\"out_superposed/jazz/\" + os.path.split(img_path)[1])"
      ],
      "execution_count": 46,
      "outputs": []
    },
    {
      "cell_type": "markdown",
      "metadata": {
        "id": "FZDUOCVeezMm"
      },
      "source": [
        "### Run style transfer on all the images"
      ]
    },
    {
      "cell_type": "code",
      "metadata": {
        "colab": {
          "base_uri": "https://localhost:8080/"
        },
        "id": "sH2rk9DGaLO3",
        "outputId": "1a6358f5-b80c-4346-a568-9878a518230c"
      },
      "source": [
        "i = 0\n",
        "Path(\"out_style_transferred/classical/\").mkdir(parents=True, exist_ok=True)\n",
        "for img_path in classical_list:\n",
        "  content_image = np.asarray(PIL.Image.open(str(img_path)))\n",
        "  content_image = content_image[..., np.newaxis]\n",
        "  content_image = content_image[np.newaxis, ...]\n",
        "  normalization_layer = tf.keras.layers.experimental.preprocessing.Rescaling(1./255)\n",
        "  content_image = normalization_layer(content_image)\n",
        "  extractor = StyleContentModel(style_layers, content_layers)\n",
        "\n",
        "  results = extractor(tf.constant(content_image))\n",
        "  style_targets = extractor(style_image)['style']\n",
        "  content_targets = extractor(content_image)['content']\n",
        "  image = tf.Variable(content_image)\n",
        "  epochs = 10\n",
        "  steps_per_epoch = 100\n",
        "\n",
        "  @tf.function()\n",
        "  def train_step(image):\n",
        "    with tf.GradientTape() as tape:\n",
        "      outputs = extractor(image)\n",
        "      loss = style_content_loss(outputs)\n",
        "\n",
        "    grad = tape.gradient(loss, image)\n",
        "    opt.apply_gradients([(grad, image)])\n",
        "    image.assign(clip_0_1(image))\n",
        "\n",
        "  step = 0\n",
        "  for n in range(epochs):\n",
        "    for m in range(steps_per_epoch):\n",
        "      step += 1\n",
        "      train_step(image)\n",
        "      # print(\".\", end='')\n",
        "    # display.clear_output(wait=True)\n",
        "    # display.display(tensor_to_image(image))\n",
        "    # print(\"Train step: {}\".format(step))\n",
        "  tensor_to_image(image).save(\"out_style_transferred/classical/\" + os.path.split(img_path)[1])\n",
        "  i += 1\n",
        "  if i >= 10: # Only 10 sample clips to reduce the execution time. Remove this to get results for the entire dataset\n",
        "    break"
      ],
      "execution_count": 47,
      "outputs": [
        {
          "output_type": "stream",
          "text": [
            "WARNING:tensorflow:Layer style_content_model_1 is casting an input tensor from dtype float64 to the layer's dtype of float32, which is new behavior in TensorFlow 2.  The layer has dtype float32 because its dtype defaults to floatx.\n",
            "\n",
            "If you intended to run this layer in float32, you can safely ignore this warning. If in doubt, this warning is likely only an issue if you are porting a TensorFlow 1.X model to TensorFlow 2.\n",
            "\n",
            "To change all layers to have dtype float64 by default, call `tf.keras.backend.set_floatx('float64')`. To change just this layer, pass dtype='float64' to the layer constructor. If you are the author of this layer, you can disable autocasting by passing autocast=False to the base Layer constructor.\n",
            "\n",
            "WARNING:tensorflow:Model was constructed with shape (None, 107, 1440, 1) for input Tensor(\"input:0\", shape=(None, 107, 1440, 1), dtype=float32), but it was called on an input with incompatible shape (1, 106, 1440, 1).\n",
            "WARNING:tensorflow:Model was constructed with shape (None, 107, 1440, 1) for input Tensor(\"input:0\", shape=(None, 107, 1440, 1), dtype=float32), but it was called on an input with incompatible shape (1, 106, 1440, 1).\n",
            "WARNING:tensorflow:Layer style_content_model_2 is casting an input tensor from dtype float64 to the layer's dtype of float32, which is new behavior in TensorFlow 2.  The layer has dtype float32 because its dtype defaults to floatx.\n",
            "\n",
            "If you intended to run this layer in float32, you can safely ignore this warning. If in doubt, this warning is likely only an issue if you are porting a TensorFlow 1.X model to TensorFlow 2.\n",
            "\n",
            "To change all layers to have dtype float64 by default, call `tf.keras.backend.set_floatx('float64')`. To change just this layer, pass dtype='float64' to the layer constructor. If you are the author of this layer, you can disable autocasting by passing autocast=False to the base Layer constructor.\n",
            "\n",
            "WARNING:tensorflow:Model was constructed with shape (None, 107, 1440, 1) for input Tensor(\"input:0\", shape=(None, 107, 1440, 1), dtype=float32), but it was called on an input with incompatible shape (1, 106, 1440, 1).\n",
            "WARNING:tensorflow:Model was constructed with shape (None, 107, 1440, 1) for input Tensor(\"input:0\", shape=(None, 107, 1440, 1), dtype=float32), but it was called on an input with incompatible shape (1, 106, 1440, 1).\n",
            "WARNING:tensorflow:Layer style_content_model_3 is casting an input tensor from dtype float64 to the layer's dtype of float32, which is new behavior in TensorFlow 2.  The layer has dtype float32 because its dtype defaults to floatx.\n",
            "\n",
            "If you intended to run this layer in float32, you can safely ignore this warning. If in doubt, this warning is likely only an issue if you are porting a TensorFlow 1.X model to TensorFlow 2.\n",
            "\n",
            "To change all layers to have dtype float64 by default, call `tf.keras.backend.set_floatx('float64')`. To change just this layer, pass dtype='float64' to the layer constructor. If you are the author of this layer, you can disable autocasting by passing autocast=False to the base Layer constructor.\n",
            "\n",
            "WARNING:tensorflow:Model was constructed with shape (None, 107, 1440, 1) for input Tensor(\"input:0\", shape=(None, 107, 1440, 1), dtype=float32), but it was called on an input with incompatible shape (1, 106, 1440, 1).\n",
            "WARNING:tensorflow:Model was constructed with shape (None, 107, 1440, 1) for input Tensor(\"input:0\", shape=(None, 107, 1440, 1), dtype=float32), but it was called on an input with incompatible shape (1, 106, 1440, 1).\n",
            "WARNING:tensorflow:Layer style_content_model_4 is casting an input tensor from dtype float64 to the layer's dtype of float32, which is new behavior in TensorFlow 2.  The layer has dtype float32 because its dtype defaults to floatx.\n",
            "\n",
            "If you intended to run this layer in float32, you can safely ignore this warning. If in doubt, this warning is likely only an issue if you are porting a TensorFlow 1.X model to TensorFlow 2.\n",
            "\n",
            "To change all layers to have dtype float64 by default, call `tf.keras.backend.set_floatx('float64')`. To change just this layer, pass dtype='float64' to the layer constructor. If you are the author of this layer, you can disable autocasting by passing autocast=False to the base Layer constructor.\n",
            "\n",
            "WARNING:tensorflow:Model was constructed with shape (None, 107, 1440, 1) for input Tensor(\"input:0\", shape=(None, 107, 1440, 1), dtype=float32), but it was called on an input with incompatible shape (1, 106, 1440, 1).\n",
            "WARNING:tensorflow:Model was constructed with shape (None, 107, 1440, 1) for input Tensor(\"input:0\", shape=(None, 107, 1440, 1), dtype=float32), but it was called on an input with incompatible shape (1, 106, 1440, 1).\n",
            "WARNING:tensorflow:Layer style_content_model_5 is casting an input tensor from dtype float64 to the layer's dtype of float32, which is new behavior in TensorFlow 2.  The layer has dtype float32 because its dtype defaults to floatx.\n",
            "\n",
            "If you intended to run this layer in float32, you can safely ignore this warning. If in doubt, this warning is likely only an issue if you are porting a TensorFlow 1.X model to TensorFlow 2.\n",
            "\n",
            "To change all layers to have dtype float64 by default, call `tf.keras.backend.set_floatx('float64')`. To change just this layer, pass dtype='float64' to the layer constructor. If you are the author of this layer, you can disable autocasting by passing autocast=False to the base Layer constructor.\n",
            "\n",
            "WARNING:tensorflow:Model was constructed with shape (None, 107, 1440, 1) for input Tensor(\"input:0\", shape=(None, 107, 1440, 1), dtype=float32), but it was called on an input with incompatible shape (1, 106, 1440, 1).\n",
            "WARNING:tensorflow:Model was constructed with shape (None, 107, 1440, 1) for input Tensor(\"input:0\", shape=(None, 107, 1440, 1), dtype=float32), but it was called on an input with incompatible shape (1, 106, 1440, 1).\n",
            "WARNING:tensorflow:Layer style_content_model_6 is casting an input tensor from dtype float64 to the layer's dtype of float32, which is new behavior in TensorFlow 2.  The layer has dtype float32 because its dtype defaults to floatx.\n",
            "\n",
            "If you intended to run this layer in float32, you can safely ignore this warning. If in doubt, this warning is likely only an issue if you are porting a TensorFlow 1.X model to TensorFlow 2.\n",
            "\n",
            "To change all layers to have dtype float64 by default, call `tf.keras.backend.set_floatx('float64')`. To change just this layer, pass dtype='float64' to the layer constructor. If you are the author of this layer, you can disable autocasting by passing autocast=False to the base Layer constructor.\n",
            "\n",
            "WARNING:tensorflow:Model was constructed with shape (None, 107, 1440, 1) for input Tensor(\"input:0\", shape=(None, 107, 1440, 1), dtype=float32), but it was called on an input with incompatible shape (1, 106, 1440, 1).\n",
            "WARNING:tensorflow:Model was constructed with shape (None, 107, 1440, 1) for input Tensor(\"input:0\", shape=(None, 107, 1440, 1), dtype=float32), but it was called on an input with incompatible shape (1, 106, 1440, 1).\n",
            "WARNING:tensorflow:Layer style_content_model_7 is casting an input tensor from dtype float64 to the layer's dtype of float32, which is new behavior in TensorFlow 2.  The layer has dtype float32 because its dtype defaults to floatx.\n",
            "\n",
            "If you intended to run this layer in float32, you can safely ignore this warning. If in doubt, this warning is likely only an issue if you are porting a TensorFlow 1.X model to TensorFlow 2.\n",
            "\n",
            "To change all layers to have dtype float64 by default, call `tf.keras.backend.set_floatx('float64')`. To change just this layer, pass dtype='float64' to the layer constructor. If you are the author of this layer, you can disable autocasting by passing autocast=False to the base Layer constructor.\n",
            "\n",
            "WARNING:tensorflow:Model was constructed with shape (None, 107, 1440, 1) for input Tensor(\"input:0\", shape=(None, 107, 1440, 1), dtype=float32), but it was called on an input with incompatible shape (1, 106, 1440, 1).\n",
            "WARNING:tensorflow:Model was constructed with shape (None, 107, 1440, 1) for input Tensor(\"input:0\", shape=(None, 107, 1440, 1), dtype=float32), but it was called on an input with incompatible shape (1, 106, 1440, 1).\n",
            "WARNING:tensorflow:Layer style_content_model_8 is casting an input tensor from dtype float64 to the layer's dtype of float32, which is new behavior in TensorFlow 2.  The layer has dtype float32 because its dtype defaults to floatx.\n",
            "\n",
            "If you intended to run this layer in float32, you can safely ignore this warning. If in doubt, this warning is likely only an issue if you are porting a TensorFlow 1.X model to TensorFlow 2.\n",
            "\n",
            "To change all layers to have dtype float64 by default, call `tf.keras.backend.set_floatx('float64')`. To change just this layer, pass dtype='float64' to the layer constructor. If you are the author of this layer, you can disable autocasting by passing autocast=False to the base Layer constructor.\n",
            "\n",
            "WARNING:tensorflow:Model was constructed with shape (None, 107, 1440, 1) for input Tensor(\"input:0\", shape=(None, 107, 1440, 1), dtype=float32), but it was called on an input with incompatible shape (1, 106, 1440, 1).\n",
            "WARNING:tensorflow:Model was constructed with shape (None, 107, 1440, 1) for input Tensor(\"input:0\", shape=(None, 107, 1440, 1), dtype=float32), but it was called on an input with incompatible shape (1, 106, 1440, 1).\n",
            "WARNING:tensorflow:Layer style_content_model_9 is casting an input tensor from dtype float64 to the layer's dtype of float32, which is new behavior in TensorFlow 2.  The layer has dtype float32 because its dtype defaults to floatx.\n",
            "\n",
            "If you intended to run this layer in float32, you can safely ignore this warning. If in doubt, this warning is likely only an issue if you are porting a TensorFlow 1.X model to TensorFlow 2.\n",
            "\n",
            "To change all layers to have dtype float64 by default, call `tf.keras.backend.set_floatx('float64')`. To change just this layer, pass dtype='float64' to the layer constructor. If you are the author of this layer, you can disable autocasting by passing autocast=False to the base Layer constructor.\n",
            "\n",
            "WARNING:tensorflow:Model was constructed with shape (None, 107, 1440, 1) for input Tensor(\"input:0\", shape=(None, 107, 1440, 1), dtype=float32), but it was called on an input with incompatible shape (1, 106, 1440, 1).\n",
            "WARNING:tensorflow:Model was constructed with shape (None, 107, 1440, 1) for input Tensor(\"input:0\", shape=(None, 107, 1440, 1), dtype=float32), but it was called on an input with incompatible shape (1, 106, 1440, 1).\n",
            "WARNING:tensorflow:Layer style_content_model_10 is casting an input tensor from dtype float64 to the layer's dtype of float32, which is new behavior in TensorFlow 2.  The layer has dtype float32 because its dtype defaults to floatx.\n",
            "\n",
            "If you intended to run this layer in float32, you can safely ignore this warning. If in doubt, this warning is likely only an issue if you are porting a TensorFlow 1.X model to TensorFlow 2.\n",
            "\n",
            "To change all layers to have dtype float64 by default, call `tf.keras.backend.set_floatx('float64')`. To change just this layer, pass dtype='float64' to the layer constructor. If you are the author of this layer, you can disable autocasting by passing autocast=False to the base Layer constructor.\n",
            "\n",
            "WARNING:tensorflow:Model was constructed with shape (None, 107, 1440, 1) for input Tensor(\"input:0\", shape=(None, 107, 1440, 1), dtype=float32), but it was called on an input with incompatible shape (1, 106, 1440, 1).\n",
            "WARNING:tensorflow:Model was constructed with shape (None, 107, 1440, 1) for input Tensor(\"input:0\", shape=(None, 107, 1440, 1), dtype=float32), but it was called on an input with incompatible shape (1, 106, 1440, 1).\n"
          ],
          "name": "stdout"
        }
      ]
    },
    {
      "cell_type": "code",
      "metadata": {
        "colab": {
          "base_uri": "https://localhost:8080/"
        },
        "id": "MA0W8FcKb8Ya",
        "outputId": "c6f30b1f-8017-45f6-9639-c8be829fb97a"
      },
      "source": [
        "i = 0\n",
        "Path(\"out_style_transferred/jazz/\").mkdir(parents=True, exist_ok=True)\n",
        "for img_path in jazz_list:\n",
        "  content_image = np.asarray(PIL.Image.open(str(img_path)))\n",
        "  content_image = content_image[..., np.newaxis]\n",
        "  content_image = content_image[np.newaxis, ...]\n",
        "  normalization_layer = tf.keras.layers.experimental.preprocessing.Rescaling(1./255)\n",
        "  content_image = normalization_layer(content_image)\n",
        "  extractor = StyleContentModel(style_layers, content_layers)\n",
        "\n",
        "  results = extractor(tf.constant(content_image))\n",
        "  style_targets = extractor(style_image)['style']\n",
        "  content_targets = extractor(content_image)['content']\n",
        "  image = tf.Variable(content_image)\n",
        "  epochs = 10\n",
        "  steps_per_epoch = 100\n",
        "\n",
        "  @tf.function()\n",
        "  def train_step(image):\n",
        "    with tf.GradientTape() as tape:\n",
        "      outputs = extractor(image)\n",
        "      loss = style_content_loss(outputs)\n",
        "\n",
        "    grad = tape.gradient(loss, image)\n",
        "    opt.apply_gradients([(grad, image)])\n",
        "    image.assign(clip_0_1(image))\n",
        "\n",
        "  step = 0\n",
        "  for n in range(epochs):\n",
        "    for m in range(steps_per_epoch):\n",
        "      step += 1\n",
        "      train_step(image)\n",
        "      # print(\".\", end='')\n",
        "    # display.clear_output(wait=True)\n",
        "    # display.display(tensor_to_image(image))\n",
        "    # print(\"Train step: {}\".format(step))\n",
        "  tensor_to_image(image).save(\"out_style_transferred/jazz/\" + os.path.split(img_path)[1])\n",
        "  i += 1\n",
        "  if i >= 10:\n",
        "    break"
      ],
      "execution_count": 48,
      "outputs": [
        {
          "output_type": "stream",
          "text": [
            "WARNING:tensorflow:Layer style_content_model_11 is casting an input tensor from dtype float64 to the layer's dtype of float32, which is new behavior in TensorFlow 2.  The layer has dtype float32 because its dtype defaults to floatx.\n",
            "\n",
            "If you intended to run this layer in float32, you can safely ignore this warning. If in doubt, this warning is likely only an issue if you are porting a TensorFlow 1.X model to TensorFlow 2.\n",
            "\n",
            "To change all layers to have dtype float64 by default, call `tf.keras.backend.set_floatx('float64')`. To change just this layer, pass dtype='float64' to the layer constructor. If you are the author of this layer, you can disable autocasting by passing autocast=False to the base Layer constructor.\n",
            "\n",
            "WARNING:tensorflow:Model was constructed with shape (None, 107, 1440, 1) for input Tensor(\"input:0\", shape=(None, 107, 1440, 1), dtype=float32), but it was called on an input with incompatible shape (1, 106, 1440, 1).\n",
            "WARNING:tensorflow:Model was constructed with shape (None, 107, 1440, 1) for input Tensor(\"input:0\", shape=(None, 107, 1440, 1), dtype=float32), but it was called on an input with incompatible shape (1, 106, 1440, 1).\n",
            "WARNING:tensorflow:Layer style_content_model_12 is casting an input tensor from dtype float64 to the layer's dtype of float32, which is new behavior in TensorFlow 2.  The layer has dtype float32 because its dtype defaults to floatx.\n",
            "\n",
            "If you intended to run this layer in float32, you can safely ignore this warning. If in doubt, this warning is likely only an issue if you are porting a TensorFlow 1.X model to TensorFlow 2.\n",
            "\n",
            "To change all layers to have dtype float64 by default, call `tf.keras.backend.set_floatx('float64')`. To change just this layer, pass dtype='float64' to the layer constructor. If you are the author of this layer, you can disable autocasting by passing autocast=False to the base Layer constructor.\n",
            "\n",
            "WARNING:tensorflow:Model was constructed with shape (None, 107, 1440, 1) for input Tensor(\"input:0\", shape=(None, 107, 1440, 1), dtype=float32), but it was called on an input with incompatible shape (1, 106, 1440, 1).\n",
            "WARNING:tensorflow:Model was constructed with shape (None, 107, 1440, 1) for input Tensor(\"input:0\", shape=(None, 107, 1440, 1), dtype=float32), but it was called on an input with incompatible shape (1, 106, 1440, 1).\n",
            "WARNING:tensorflow:Layer style_content_model_13 is casting an input tensor from dtype float64 to the layer's dtype of float32, which is new behavior in TensorFlow 2.  The layer has dtype float32 because its dtype defaults to floatx.\n",
            "\n",
            "If you intended to run this layer in float32, you can safely ignore this warning. If in doubt, this warning is likely only an issue if you are porting a TensorFlow 1.X model to TensorFlow 2.\n",
            "\n",
            "To change all layers to have dtype float64 by default, call `tf.keras.backend.set_floatx('float64')`. To change just this layer, pass dtype='float64' to the layer constructor. If you are the author of this layer, you can disable autocasting by passing autocast=False to the base Layer constructor.\n",
            "\n",
            "WARNING:tensorflow:Model was constructed with shape (None, 107, 1440, 1) for input Tensor(\"input:0\", shape=(None, 107, 1440, 1), dtype=float32), but it was called on an input with incompatible shape (1, 106, 1440, 1).\n",
            "WARNING:tensorflow:Model was constructed with shape (None, 107, 1440, 1) for input Tensor(\"input:0\", shape=(None, 107, 1440, 1), dtype=float32), but it was called on an input with incompatible shape (1, 106, 1440, 1).\n",
            "WARNING:tensorflow:Layer style_content_model_14 is casting an input tensor from dtype float64 to the layer's dtype of float32, which is new behavior in TensorFlow 2.  The layer has dtype float32 because its dtype defaults to floatx.\n",
            "\n",
            "If you intended to run this layer in float32, you can safely ignore this warning. If in doubt, this warning is likely only an issue if you are porting a TensorFlow 1.X model to TensorFlow 2.\n",
            "\n",
            "To change all layers to have dtype float64 by default, call `tf.keras.backend.set_floatx('float64')`. To change just this layer, pass dtype='float64' to the layer constructor. If you are the author of this layer, you can disable autocasting by passing autocast=False to the base Layer constructor.\n",
            "\n",
            "WARNING:tensorflow:Model was constructed with shape (None, 107, 1440, 1) for input Tensor(\"input:0\", shape=(None, 107, 1440, 1), dtype=float32), but it was called on an input with incompatible shape (1, 106, 1440, 1).\n",
            "WARNING:tensorflow:Model was constructed with shape (None, 107, 1440, 1) for input Tensor(\"input:0\", shape=(None, 107, 1440, 1), dtype=float32), but it was called on an input with incompatible shape (1, 106, 1440, 1).\n",
            "WARNING:tensorflow:Layer style_content_model_15 is casting an input tensor from dtype float64 to the layer's dtype of float32, which is new behavior in TensorFlow 2.  The layer has dtype float32 because its dtype defaults to floatx.\n",
            "\n",
            "If you intended to run this layer in float32, you can safely ignore this warning. If in doubt, this warning is likely only an issue if you are porting a TensorFlow 1.X model to TensorFlow 2.\n",
            "\n",
            "To change all layers to have dtype float64 by default, call `tf.keras.backend.set_floatx('float64')`. To change just this layer, pass dtype='float64' to the layer constructor. If you are the author of this layer, you can disable autocasting by passing autocast=False to the base Layer constructor.\n",
            "\n",
            "WARNING:tensorflow:Model was constructed with shape (None, 107, 1440, 1) for input Tensor(\"input:0\", shape=(None, 107, 1440, 1), dtype=float32), but it was called on an input with incompatible shape (1, 106, 1440, 1).\n",
            "WARNING:tensorflow:Model was constructed with shape (None, 107, 1440, 1) for input Tensor(\"input:0\", shape=(None, 107, 1440, 1), dtype=float32), but it was called on an input with incompatible shape (1, 106, 1440, 1).\n",
            "WARNING:tensorflow:Layer style_content_model_16 is casting an input tensor from dtype float64 to the layer's dtype of float32, which is new behavior in TensorFlow 2.  The layer has dtype float32 because its dtype defaults to floatx.\n",
            "\n",
            "If you intended to run this layer in float32, you can safely ignore this warning. If in doubt, this warning is likely only an issue if you are porting a TensorFlow 1.X model to TensorFlow 2.\n",
            "\n",
            "To change all layers to have dtype float64 by default, call `tf.keras.backend.set_floatx('float64')`. To change just this layer, pass dtype='float64' to the layer constructor. If you are the author of this layer, you can disable autocasting by passing autocast=False to the base Layer constructor.\n",
            "\n",
            "WARNING:tensorflow:Model was constructed with shape (None, 107, 1440, 1) for input Tensor(\"input:0\", shape=(None, 107, 1440, 1), dtype=float32), but it was called on an input with incompatible shape (1, 106, 1440, 1).\n",
            "WARNING:tensorflow:Model was constructed with shape (None, 107, 1440, 1) for input Tensor(\"input:0\", shape=(None, 107, 1440, 1), dtype=float32), but it was called on an input with incompatible shape (1, 106, 1440, 1).\n",
            "WARNING:tensorflow:Layer style_content_model_17 is casting an input tensor from dtype float64 to the layer's dtype of float32, which is new behavior in TensorFlow 2.  The layer has dtype float32 because its dtype defaults to floatx.\n",
            "\n",
            "If you intended to run this layer in float32, you can safely ignore this warning. If in doubt, this warning is likely only an issue if you are porting a TensorFlow 1.X model to TensorFlow 2.\n",
            "\n",
            "To change all layers to have dtype float64 by default, call `tf.keras.backend.set_floatx('float64')`. To change just this layer, pass dtype='float64' to the layer constructor. If you are the author of this layer, you can disable autocasting by passing autocast=False to the base Layer constructor.\n",
            "\n",
            "WARNING:tensorflow:Model was constructed with shape (None, 107, 1440, 1) for input Tensor(\"input:0\", shape=(None, 107, 1440, 1), dtype=float32), but it was called on an input with incompatible shape (1, 106, 1440, 1).\n",
            "WARNING:tensorflow:Model was constructed with shape (None, 107, 1440, 1) for input Tensor(\"input:0\", shape=(None, 107, 1440, 1), dtype=float32), but it was called on an input with incompatible shape (1, 106, 1440, 1).\n",
            "WARNING:tensorflow:Layer style_content_model_18 is casting an input tensor from dtype float64 to the layer's dtype of float32, which is new behavior in TensorFlow 2.  The layer has dtype float32 because its dtype defaults to floatx.\n",
            "\n",
            "If you intended to run this layer in float32, you can safely ignore this warning. If in doubt, this warning is likely only an issue if you are porting a TensorFlow 1.X model to TensorFlow 2.\n",
            "\n",
            "To change all layers to have dtype float64 by default, call `tf.keras.backend.set_floatx('float64')`. To change just this layer, pass dtype='float64' to the layer constructor. If you are the author of this layer, you can disable autocasting by passing autocast=False to the base Layer constructor.\n",
            "\n",
            "WARNING:tensorflow:Model was constructed with shape (None, 107, 1440, 1) for input Tensor(\"input:0\", shape=(None, 107, 1440, 1), dtype=float32), but it was called on an input with incompatible shape (1, 106, 1440, 1).\n",
            "WARNING:tensorflow:Model was constructed with shape (None, 107, 1440, 1) for input Tensor(\"input:0\", shape=(None, 107, 1440, 1), dtype=float32), but it was called on an input with incompatible shape (1, 106, 1440, 1).\n",
            "WARNING:tensorflow:Layer style_content_model_19 is casting an input tensor from dtype float64 to the layer's dtype of float32, which is new behavior in TensorFlow 2.  The layer has dtype float32 because its dtype defaults to floatx.\n",
            "\n",
            "If you intended to run this layer in float32, you can safely ignore this warning. If in doubt, this warning is likely only an issue if you are porting a TensorFlow 1.X model to TensorFlow 2.\n",
            "\n",
            "To change all layers to have dtype float64 by default, call `tf.keras.backend.set_floatx('float64')`. To change just this layer, pass dtype='float64' to the layer constructor. If you are the author of this layer, you can disable autocasting by passing autocast=False to the base Layer constructor.\n",
            "\n",
            "WARNING:tensorflow:Model was constructed with shape (None, 107, 1440, 1) for input Tensor(\"input:0\", shape=(None, 107, 1440, 1), dtype=float32), but it was called on an input with incompatible shape (1, 106, 1440, 1).\n",
            "WARNING:tensorflow:Model was constructed with shape (None, 107, 1440, 1) for input Tensor(\"input:0\", shape=(None, 107, 1440, 1), dtype=float32), but it was called on an input with incompatible shape (1, 106, 1440, 1).\n",
            "WARNING:tensorflow:Layer style_content_model_20 is casting an input tensor from dtype float64 to the layer's dtype of float32, which is new behavior in TensorFlow 2.  The layer has dtype float32 because its dtype defaults to floatx.\n",
            "\n",
            "If you intended to run this layer in float32, you can safely ignore this warning. If in doubt, this warning is likely only an issue if you are porting a TensorFlow 1.X model to TensorFlow 2.\n",
            "\n",
            "To change all layers to have dtype float64 by default, call `tf.keras.backend.set_floatx('float64')`. To change just this layer, pass dtype='float64' to the layer constructor. If you are the author of this layer, you can disable autocasting by passing autocast=False to the base Layer constructor.\n",
            "\n",
            "WARNING:tensorflow:Model was constructed with shape (None, 107, 1440, 1) for input Tensor(\"input:0\", shape=(None, 107, 1440, 1), dtype=float32), but it was called on an input with incompatible shape (1, 106, 1440, 1).\n",
            "WARNING:tensorflow:Model was constructed with shape (None, 107, 1440, 1) for input Tensor(\"input:0\", shape=(None, 107, 1440, 1), dtype=float32), but it was called on an input with incompatible shape (1, 106, 1440, 1).\n"
          ],
          "name": "stdout"
        }
      ]
    },
    {
      "cell_type": "code",
      "metadata": {
        "colab": {
          "base_uri": "https://localhost:8080/"
        },
        "id": "NdwpoHWenIQf",
        "outputId": "18b2965a-c4f8-4d29-9fe5-44a3d8445567"
      },
      "source": [
        "!zip -r out_style_transferred.zip /content/out_style_transferred"
      ],
      "execution_count": 62,
      "outputs": [
        {
          "output_type": "stream",
          "text": [
            "  adding: content/out_style_transferred/ (stored 0%)\n",
            "  adding: content/out_style_transferred/jazz/ (stored 0%)\n",
            "  adding: content/out_style_transferred/jazz/BlueTrain_Piano_0.png (deflated 4%)\n",
            "  adding: content/out_style_transferred/jazz/Aliceinw_Piano_0.png (deflated 2%)\n",
            "  adding: content/out_style_transferred/jazz/DaysOf_Piano_0.png (deflated 1%)\n",
            "  adding: content/out_style_transferred/jazz/Danny Boy_Piano_0.png (deflated 1%)\n",
            "  adding: content/out_style_transferred/jazz/Dreamsville_Piano_0.png (deflated 1%)\n",
            "  adding: content/out_style_transferred/jazz/AllTheThings V2_Piano_0.png (deflated 1%)\n",
            "  adding: content/out_style_transferred/jazz/Dannyboy_Piano_0.png (deflated 1%)\n",
            "  adding: content/out_style_transferred/jazz/Bymyself_Piano_0.png (deflated 1%)\n",
            "  adding: content/out_style_transferred/jazz/Chameleon_Piano_0.png (deflated 3%)\n",
            "  adding: content/out_style_transferred/jazz/Autumn In NY_Piano_0.png (deflated 0%)\n",
            "  adding: content/out_style_transferred/classical/ (stored 0%)\n",
            "  adding: content/out_style_transferred/classical/BENABD07_Piano_0.png (deflated 3%)\n",
            "  adding: content/out_style_transferred/classical/BENABD01_Piano_0.png (deflated 2%)\n",
            "  adding: content/out_style_transferred/classical/BENABD06_Piano_0.png (deflated 0%)\n",
            "  adding: content/out_style_transferred/classical/BENABD03_Piano_0.png (deflated 2%)\n",
            "  adding: content/out_style_transferred/classical/ADIG03_Piano_0.png (deflated 1%)\n",
            "  adding: content/out_style_transferred/classical/Adagio in B flat_Piano_0.png (deflated 1%)\n",
            "  adding: content/out_style_transferred/classical/02. Christe Eleison _Piano_0.png (deflated 3%)\n",
            "  adding: content/out_style_transferred/classical/BENABD09_Piano_0.png (deflated 1%)\n",
            "  adding: content/out_style_transferred/classical/BENABD05_Piano_0.png (deflated 0%)\n",
            "  adding: content/out_style_transferred/classical/ADIG01_Piano_0.png (deflated 2%)\n"
          ],
          "name": "stdout"
        }
      ]
    },
    {
      "cell_type": "code",
      "metadata": {
        "colab": {
          "base_uri": "https://localhost:8080/"
        },
        "id": "B-jJVnmtndrW",
        "outputId": "33042637-0402-4aea-8e74-8f69ee73b28c"
      },
      "source": [
        "!zip -r out_superposed.zip /content/out_superposed/"
      ],
      "execution_count": 63,
      "outputs": [
        {
          "output_type": "stream",
          "text": [
            "  adding: content/out_superposed/ (stored 0%)\n",
            "  adding: content/out_superposed/jazz/ (stored 0%)\n",
            "  adding: content/out_superposed/jazz/afine-1_Piano_0.png (deflated 2%)\n",
            "  adding: content/out_superposed/jazz/youtookadvantageofme_Piano_0.png (deflated 2%)\n",
            "  adding: content/out_superposed/jazz/peanutsg_Piano_0.png (deflated 5%)\n",
            "  adding: content/out_superposed/jazz/HaveUMMsJ_Piano_0.png (deflated 2%)\n",
            "  adding: content/out_superposed/jazz/Thingsaintwhattheyusedtobe_Piano_0.png (deflated 2%)\n",
            "  adding: content/out_superposed/jazz/Isfahan (Elf)_Piano_0.png (deflated 2%)\n",
            "  adding: content/out_superposed/jazz/The End of a Love Affair_Piano_0.png (deflated 1%)\n",
            "  adding: content/out_superposed/jazz/simplelife_Piano_0.png (deflated 1%)\n",
            "  adding: content/out_superposed/jazz/Yesterdays1_Piano_0.png (deflated 1%)\n",
            "  adding: content/out_superposed/jazz/sushi_Piano_0.png (deflated 2%)\n",
            "  adding: content/out_superposed/jazz/My Romance_Piano_0.png (deflated 1%)\n",
            "  adding: content/out_superposed/jazz/Isn_t_it_Romantic_Piano_0.png (deflated 2%)\n",
            "  adding: content/out_superposed/jazz/Day Dream_Piano_0.png (deflated 2%)\n",
            "  adding: content/out_superposed/jazz/BlueTrain_Piano_0.png (deflated 5%)\n",
            "  adding: content/out_superposed/jazz/toss_up_Piano_0.png (deflated 5%)\n",
            "  adding: content/out_superposed/jazz/Yesterday_Piano_0.png (deflated 2%)\n",
            "  adding: content/out_superposed/jazz/don-lee2_Piano_0.png (deflated 2%)\n",
            "  adding: content/out_superposed/jazz/LBirdland_Piano_0.png (deflated 4%)\n",
            "  adding: content/out_superposed/jazz/stolen_Piano_0.png (deflated 3%)\n",
            "  adding: content/out_superposed/jazz/myheartstoodstill edited a bit_Piano_0.png (deflated 1%)\n",
            "  adding: content/out_superposed/jazz/TooYoungtogoSteady_Piano_0.png (deflated 1%)\n",
            "  adding: content/out_superposed/jazz/This Time the Dreams on Me_Piano_0.png (deflated 2%)\n",
            "  adding: content/out_superposed/jazz/idmathing_Piano_0.png (deflated 4%)\n",
            "  adding: content/out_superposed/jazz/Just a Gigolo_Piano_0.png (deflated 2%)\n",
            "  adding: content/out_superposed/jazz/LushLife  trio_Piano_0.png (deflated 1%)\n",
            "  adding: content/out_superposed/jazz/desire_Piano_0.png (deflated 2%)\n",
            "  adding: content/out_superposed/jazz/Just Friends Trio_Piano_0.png (deflated 2%)\n",
            "  adding: content/out_superposed/jazz/laura_Piano_0.png (deflated 2%)\n",
            "  adding: content/out_superposed/jazz/Summer wind 2_Piano_0.png (deflated 2%)\n",
            "  adding: content/out_superposed/jazz/SophisticatedLady_Piano_0.png (deflated 2%)\n",
            "  adding: content/out_superposed/jazz/Beautiful Love (Doug McKenzie)_Piano_0.png (deflated 2%)\n",
            "  adding: content/out_superposed/jazz/turnoutthestars_Piano_0.png (deflated 1%)\n",
            "  adding: content/out_superposed/jazz/Prelude to a kiss_Piano_0.png (deflated 2%)\n",
            "  adding: content/out_superposed/jazz/Zip-A-Dee-Doo-Dah_Piano_0.png (deflated 3%)\n",
            "  adding: content/out_superposed/jazz/accustomed_Piano_0.png (deflated 1%)\n",
            "  adding: content/out_superposed/jazz/I'll Close My Eyes 2_Piano_0.png (deflated 2%)\n",
            "  adding: content/out_superposed/jazz/Falling in Love with Love trio_Piano_0.png (deflated 2%)\n",
            "  adding: content/out_superposed/jazz/GrooveYard_Piano_0.png (deflated 6%)\n",
            "  adding: content/out_superposed/jazz/Old Man River_Piano_0.png (deflated 1%)\n",
            "  adding: content/out_superposed/jazz/Do I Love You Because you're Beautiful_Piano_0.png (deflated 1%)\n",
            "  adding: content/out_superposed/jazz/Mad About the Boy_Piano_0.png (deflated 1%)\n",
            "  adding: content/out_superposed/jazz/eastofthesun_Piano_0.png (deflated 2%)\n",
            "  adding: content/out_superposed/jazz/cherokee_Piano_0.png (deflated 3%)\n",
            "  adding: content/out_superposed/jazz/FreckleFace_Piano_0.png (deflated 3%)\n",
            "  adding: content/out_superposed/jazz/tunisia_Piano_0.png (deflated 3%)\n",
            "  adding: content/out_superposed/jazz/Little Girl Blue_Piano_0.png (deflated 1%)\n",
            "  adding: content/out_superposed/jazz/phasedance_Piano_0.png (deflated 3%)\n",
            "  adding: content/out_superposed/jazz/alfiepno_Piano_0.png (deflated 1%)\n",
            "  adding: content/out_superposed/jazz/birdland_Piano_0.png (deflated 4%)\n",
            "  adding: content/out_superposed/jazz/Bess You Is_Piano_0.png (deflated 1%)\n",
            "  adding: content/out_superposed/jazz/BigMess_Piano_0.png (deflated 3%)\n",
            "  adding: content/out_superposed/jazz/By Myself3_Piano_0.png (deflated 2%)\n",
            "  adding: content/out_superposed/jazz/Long Ago and Far away - 3 versions_Piano_0.png (deflated 1%)\n",
            "  adding: content/out_superposed/jazz/You Are So Beautiful The Grand_Piano_0.png (deflated 1%)\n",
            "  adding: content/out_superposed/jazz/Sweet1_Piano_0.png (deflated 2%)\n",
            "  adding: content/out_superposed/jazz/Mood Indigo - solo_Piano_0.png (deflated 2%)\n",
            "  adding: content/out_superposed/jazz/Falling Grace _Piano_0.png (deflated 2%)\n",
            "  adding: content/out_superposed/jazz/lovercome piano_Piano_0.png (deflated 2%)\n",
            "  adding: content/out_superposed/jazz/Spring Is Here - Bill Evans chords_Piano_0.png (deflated 2%)\n",
            "  adding: content/out_superposed/jazz/manteca_Piano_0.png (deflated 2%)\n",
            "  adding: content/out_superposed/jazz/sinceIfell_Piano_0.png (deflated 4%)\n",
            "  adding: content/out_superposed/jazz/satin_doll_Piano_0.png (deflated 2%)\n",
            "  adding: content/out_superposed/jazz/Icantgetstarted_Piano_0.png (deflated 1%)\n",
            "  adding: content/out_superposed/jazz/along_Piano_0.png (deflated 4%)\n",
            "  adding: content/out_superposed/jazz/KingandI_Piano_0.png (deflated 2%)\n",
            "  adding: content/out_superposed/jazz/Surrey medley_Piano_0.png (deflated 2%)\n",
            "  adding: content/out_superposed/jazz/Itdon'tmeanathing_Piano_0.png (deflated 2%)\n",
            "  adding: content/out_superposed/jazz/TheOddCpl_Piano_0.png (deflated 2%)\n",
            "  adding: content/out_superposed/jazz/Love walked In_Piano_0.png (deflated 1%)\n",
            "  adding: content/out_superposed/jazz/ishouldcare2_Piano_0.png (deflated 3%)\n",
            "  adding: content/out_superposed/jazz/shinystockings_Piano_0.png (deflated 2%)\n",
            "  adding: content/out_superposed/jazz/Brazillike_Piano_0.png (deflated 2%)\n",
            "  adding: content/out_superposed/jazz/StWeather_Piano_0.png (deflated 2%)\n",
            "  adding: content/out_superposed/jazz/maisquenada_Piano_0.png (deflated 4%)\n",
            "  adding: content/out_superposed/jazz/Strollin'_Piano_0.png (deflated 2%)\n",
            "  adding: content/out_superposed/jazz/MembersOnly_Piano_0.png (deflated 3%)\n",
            "  adding: content/out_superposed/jazz/DeepPurple_Piano_0.png (deflated 2%)\n",
            "  adding: content/out_superposed/jazz/Aliceinw_Piano_0.png (deflated 4%)\n",
            "  adding: content/out_superposed/jazz/afine-2_Piano_0.png (deflated 2%)\n",
            "  adding: content/out_superposed/jazz/grelots_Piano_0.png (deflated 2%)\n",
            "  adding: content/out_superposed/jazz/DaysOf_Piano_0.png (deflated 1%)\n",
            "  adding: content/out_superposed/jazz/foreplayx_Piano_0.png (deflated 2%)\n",
            "  adding: content/out_superposed/jazz/Baby its Cold outside_Piano_0.png (deflated 4%)\n",
            "  adding: content/out_superposed/jazz/Time after Time 2_Piano_0.png (deflated 1%)\n",
            "  adding: content/out_superposed/jazz/When I Fall in Love_Piano_0.png (deflated 1%)\n",
            "  adding: content/out_superposed/jazz/broadwa2_Piano_0.png (deflated 1%)\n",
            "  adding: content/out_superposed/jazz/star eyes_Piano_0.png (deflated 2%)\n",
            "  adding: content/out_superposed/jazz/Gone with the wind_Piano_0.png (deflated 3%)\n",
            "  adding: content/out_superposed/jazz/Goin'_Home_(Real_Time)_(Antonin_Dvorak)_Piano_0.png (deflated 1%)\n",
            "  adding: content/out_superposed/jazz/INVITATION_Piano_0.png (deflated 3%)\n",
            "  adding: content/out_superposed/jazz/Two For The Road 5_Piano_0.png (deflated 2%)\n",
            "  adding: content/out_superposed/jazz/IGrownAcc2HF_Piano_0.png (deflated 1%)\n",
            "  adding: content/out_superposed/jazz/Old Folks_Piano_0.png (deflated 1%)\n",
            "  adding: content/out_superposed/jazz/Blameiton_Piano_0.png (deflated 2%)\n",
            "  adding: content/out_superposed/jazz/youhavechanged_Piano_0.png (deflated 2%)\n",
            "  adding: content/out_superposed/jazz/Danny Boy_Piano_0.png (deflated 1%)\n",
            "  adding: content/out_superposed/jazz/cjamblusx_Piano_0.png (deflated 3%)\n",
            "  adding: content/out_superposed/jazz/TakinAC_Piano_0.png (deflated 2%)\n",
            "  adding: content/out_superposed/jazz/Pure Imagination_Piano_0.png (deflated 1%)\n",
            "  adding: content/out_superposed/jazz/beacon_Piano_0.png (deflated 2%)\n",
            "  adding: content/out_superposed/jazz/porgy1_Piano_0.png (deflated 1%)\n",
            "  adding: content/out_superposed/jazz/Witchcraft_Piano_0.png (deflated 1%)\n",
            "  adding: content/out_superposed/jazz/nardis2_Piano_0.png (deflated 1%)\n",
            "  adding: content/out_superposed/jazz/WhyDoILoveYou_Piano_0.png (deflated 2%)\n",
            "  adding: content/out_superposed/jazz/NewOrleans_Piano_0.png (deflated 1%)\n",
            "  adding: content/out_superposed/jazz/ItCouldHappenGM_Piano_0.png (deflated 1%)\n",
            "  adding: content/out_superposed/jazz/alltheth_Piano_0.png (deflated 2%)\n",
            "  adding: content/out_superposed/jazz/stormyweather_Piano_0.png (deflated 2%)\n",
            "  adding: content/out_superposed/jazz/Peanut Vendor (El Manisero)_Piano_0.png (deflated 2%)\n",
            "  adding: content/out_superposed/jazz/maidenvoyage_Piano_0.png (deflated 1%)\n",
            "  adding: content/out_superposed/jazz/Lovewalkedin_Piano_0.png (deflated 2%)\n",
            "  adding: content/out_superposed/jazz/Bach Prelude No 1 (Ave Maria)_Piano_0.png (deflated 2%)\n",
            "  adding: content/out_superposed/jazz/DolphinDance_Piano_0.png (deflated 2%)\n",
            "  adding: content/out_superposed/jazz/couldwrite_Piano_0.png (deflated 2%)\n",
            "  adding: content/out_superposed/jazz/OurLove_x_Piano_0.png (deflated 2%)\n",
            "  adding: content/out_superposed/jazz/Serenata solo_Piano_0.png (deflated 2%)\n",
            "  adding: content/out_superposed/jazz/dolphnst_Piano_0.png (deflated 3%)\n",
            "  adding: content/out_superposed/jazz/porgy2_Piano_0.png (deflated 1%)\n",
            "  adding: content/out_superposed/jazz/Its Easy to Remember_Piano_0.png (deflated 1%)\n",
            "  adding: content/out_superposed/jazz/comesun_Piano_0.png (deflated 1%)\n",
            "  adding: content/out_superposed/jazz/whydidi_Piano_0.png (deflated 2%)\n",
            "  adding: content/out_superposed/jazz/nica_Piano_0.png (deflated 2%)\n",
            "  adding: content/out_superposed/jazz/bethlehem_Piano_0.png (deflated 2%)\n",
            "  adding: content/out_superposed/jazz/Come Rain or Come Shine V1_Piano_0.png (deflated 1%)\n",
            "  adding: content/out_superposed/jazz/peace_Piano_0.png (deflated 3%)\n",
            "  adding: content/out_superposed/jazz/TheManThatGotAway_Piano_0.png (deflated 1%)\n",
            "  adding: content/out_superposed/jazz/something wonderful_Piano_0.png (deflated 2%)\n",
            "  adding: content/out_superposed/jazz/Sweetlorraine_Piano_0.png (deflated 1%)\n",
            "  adding: content/out_superposed/jazz/Memories of Paris_Piano_0.png (deflated 1%)\n",
            "  adding: content/out_superposed/jazz/tunisia2_Piano_0.png (deflated 3%)\n",
            "  adding: content/out_superposed/jazz/Remember - solo jazz piano_Piano_0.png (deflated 1%)\n",
            "  adding: content/out_superposed/jazz/Ask Me Now 2_Piano_0.png (deflated 1%)\n",
            "  adding: content/out_superposed/jazz/gonewind_Piano_0.png (deflated 2%)\n",
            "  adding: content/out_superposed/jazz/Detour ahead_Piano_0.png (deflated 2%)\n",
            "  adding: content/out_superposed/jazz/stiltime_Piano_0.png (deflated 2%)\n",
            "  adding: content/out_superposed/jazz/ForSentimentalReasons_Piano_0.png (deflated 1%)\n",
            "  adding: content/out_superposed/jazz/rndmngt_Piano_0.png (deflated 4%)\n",
            "  adding: content/out_superposed/jazz/dolphindance3_Piano_0.png (deflated 2%)\n",
            "  adding: content/out_superposed/jazz/whisper_Piano_0.png (deflated 2%)\n",
            "  adding: content/out_superposed/jazz/I_Wont_Dance_R_Piano_0.png (deflated 3%)\n",
            "  adding: content/out_superposed/jazz/TheManILove_Piano_0.png (deflated 2%)\n",
            "  adding: content/out_superposed/jazz/NoMoreBlues_Piano_0.png (deflated 5%)\n",
            "  adding: content/out_superposed/jazz/Nicadream_Piano_0.png (deflated 3%)\n",
            "  adding: content/out_superposed/jazz/periscope_Piano_0.png (deflated 2%)\n",
            "  adding: content/out_superposed/jazz/I Thought About You (Doug McKenzie)_Piano_0.png (deflated 2%)\n",
            "  adding: content/out_superposed/jazz/Over the rain trio_Piano_0.png (deflated 1%)\n",
            "  adding: content/out_superposed/jazz/SweetAndLovely_Piano_0.png (deflated 2%)\n",
            "  adding: content/out_superposed/jazz/Dreamsville_Piano_0.png (deflated 2%)\n",
            "  adding: content/out_superposed/jazz/Pick yourself_Piano_0.png (deflated 1%)\n",
            "  adding: content/out_superposed/jazz/Moon and Sand_Piano_0.png (deflated 1%)\n",
            "  adding: content/out_superposed/jazz/IfIshouldLeaveYou_Piano_0.png (deflated 2%)\n",
            "  adding: content/out_superposed/jazz/broadway_Piano_0.png (deflated 1%)\n",
            "  adding: content/out_superposed/jazz/flybynight_Piano_0.png (deflated 5%)\n",
            "  adding: content/out_superposed/jazz/BPowell_Piano_0.png (deflated 3%)\n",
            "  adding: content/out_superposed/jazz/SoinLovesolo_Piano_0.png (deflated 1%)\n",
            "  adding: content/out_superposed/jazz/AllTheThings V2_Piano_0.png (deflated 2%)\n",
            "  adding: content/out_superposed/jazz/SatinDol_Piano_0.png (deflated 3%)\n",
            "  adding: content/out_superposed/jazz/roofgdn2_Piano_0.png (deflated 4%)\n",
            "  adding: content/out_superposed/jazz/HOW_Piano_0.png (deflated 3%)\n",
            "  adding: content/out_superposed/jazz/alone_Piano_0.png (deflated 2%)\n",
            "  adding: content/out_superposed/jazz/Indiana_Piano_0.png (deflated 2%)\n",
            "  adding: content/out_superposed/jazz/daybyday_Piano_0.png (deflated 4%)\n",
            "  adding: content/out_superposed/jazz/sixteengoing_Piano_0.png (deflated 1%)\n",
            "  adding: content/out_superposed/jazz/if i loved you_Piano_0.png (deflated 2%)\n",
            "  adding: content/out_superposed/jazz/youdbe_Piano_0.png (deflated 3%)\n",
            "  adding: content/out_superposed/jazz/I fall in Love Too Easily_Piano_0.png (deflated 1%)\n",
            "  adding: content/out_superposed/jazz/TakinACh_Piano_0.png (deflated 2%)\n",
            "  adding: content/out_superposed/jazz/fever2_Piano_0.png (deflated 4%)\n",
            "  adding: content/out_superposed/jazz/justfrien solo_Piano_0.png (deflated 3%)\n",
            "  adding: content/out_superposed/jazz/The Way You look trio_Piano_0.png (deflated 2%)\n",
            "  adding: content/out_superposed/jazz/Dannyboy_Piano_0.png (deflated 1%)\n",
            "  adding: content/out_superposed/jazz/On Green Dolphin 4_Piano_0.png (deflated 2%)\n",
            "  adding: content/out_superposed/jazz/wylhg_Piano_0.png (deflated 2%)\n",
            "  adding: content/out_superposed/jazz/Desafinado_Piano_0.png (deflated 2%)\n",
            "  adding: content/out_superposed/jazz/McKenzie-secret love_Piano_0.png (deflated 2%)\n",
            "  adding: content/out_superposed/jazz/merryxmas_Piano_0.png (deflated 2%)\n",
            "  adding: content/out_superposed/jazz/But Beautifulsolo_Piano_0.png (deflated 1%)\n",
            "  adding: content/out_superposed/jazz/MyFunny3_Piano_0.png (deflated 1%)\n",
            "  adding: content/out_superposed/jazz/grooving_hard_Piano_0.png (deflated 3%)\n",
            "  adding: content/out_superposed/jazz/Spring Is Here2-Bill Evans chords_Piano_0.png (deflated 2%)\n",
            "  adding: content/out_superposed/jazz/I Fall in Love v2_Piano_0.png (deflated 2%)\n",
            "  adding: content/out_superposed/jazz/whispernot_Piano_0.png (deflated 5%)\n",
            "  adding: content/out_superposed/jazz/songfor_Piano_0.png (deflated 3%)\n",
            "  adding: content/out_superposed/jazz/Hymn To Freedom_Piano_0.png (deflated 1%)\n",
            "  adding: content/out_superposed/jazz/conalma_Piano_0.png (deflated 3%)\n",
            "  adding: content/out_superposed/jazz/Young and Foolish_Piano_0.png (deflated 1%)\n",
            "  adding: content/out_superposed/jazz/ICWABook_Piano_0.png (deflated 2%)\n",
            "  adding: content/out_superposed/jazz/MyFoolishHeart_Piano_0.png (deflated 1%)\n",
            "  adding: content/out_superposed/jazz/Since We Met Jazz Kit_Piano_0.png (deflated 1%)\n",
            "  adding: content/out_superposed/jazz/SoInlove - trio version_Piano_0.png (deflated 2%)\n",
            "  adding: content/out_superposed/jazz/Some Other Time_Piano_0.png (deflated 2%)\n",
            "  adding: content/out_superposed/jazz/howdsolo_Piano_0.png (deflated 1%)\n",
            "  adding: content/out_superposed/jazz/4thAvenueTheme_Piano_0.png (deflated 2%)\n",
            "  adding: content/out_superposed/jazz/moreicu_Piano_0.png (deflated 2%)\n",
            "  adding: content/out_superposed/jazz/Bymyself_Piano_0.png (deflated 2%)\n",
            "  adding: content/out_superposed/jazz/AHouseis_Piano_0.png (deflated 1%)\n",
            "  adding: content/out_superposed/jazz/israel_Piano_0.png (deflated 4%)\n",
            "  adding: content/out_superposed/jazz/HushABye_Piano_0.png (deflated 2%)\n",
            "  adding: content/out_superposed/jazz/moonlightinvermont_Piano_0.png (deflated 1%)\n",
            "  adding: content/out_superposed/jazz/It Could Happen - piano trio_Piano_0.png (deflated 1%)\n",
            "  adding: content/out_superposed/jazz/sentmood_Piano_0.png (deflated 2%)\n",
            "  adding: content/out_superposed/jazz/Aghostofachance_Piano_0.png (deflated 2%)\n",
            "  adding: content/out_superposed/jazz/Myoneand_Piano_0.png (deflated 2%)\n",
            "  adding: content/out_superposed/jazz/IConcOnY_Piano_0.png (deflated 3%)\n",
            "  adding: content/out_superposed/jazz/autleave_Piano_0.png (deflated 3%)\n",
            "  adding: content/out_superposed/jazz/pentupHouse_Piano_0.png (deflated 1%)\n",
            "  adding: content/out_superposed/jazz/Spring is Here 2 (K Barron)_Piano_0.png (deflated 3%)\n",
            "  adding: content/out_superposed/jazz/blues4npage_Piano_0.png (deflated 2%)\n",
            "  adding: content/out_superposed/jazz/Beautiful_Love_Piano_0.png (deflated 2%)\n",
            "  adding: content/out_superposed/jazz/SoulEyessolo_Piano_0.png (deflated 1%)\n",
            "  adding: content/out_superposed/jazz/A Sleepin' Bee_Piano_0.png (deflated 2%)\n",
            "  adding: content/out_superposed/jazz/bdazhed_Piano_0.png (deflated 3%)\n",
            "  adding: content/out_superposed/jazz/Its theTalk Of The Town - solo_Piano_0.png (deflated 2%)\n",
            "  adding: content/out_superposed/jazz/Make Someone Happy_Piano_0.png (deflated 3%)\n",
            "  adding: content/out_superposed/jazz/SammyWalked_Piano_0.png (deflated 1%)\n",
            "  adding: content/out_superposed/jazz/Cute_Piano_0.png (deflated 2%)\n",
            "  adding: content/out_superposed/jazz/DancingontheCeiling_Piano_0.png (deflated 0%)\n",
            "  adding: content/out_superposed/jazz/Speak Low (Doug McKenzie)_Piano_0.png (deflated 1%)\n",
            "  adding: content/out_superposed/jazz/my1aonly_Piano_0.png (deflated 3%)\n",
            "  adding: content/out_superposed/jazz/I'm Confessin' - solo_Piano_0.png (deflated 2%)\n",
            "  adding: content/out_superposed/jazz/EasytoLove2_Piano_0.png (deflated 1%)\n",
            "  adding: content/out_superposed/jazz/Easy Living 3_Piano_0.png (deflated 3%)\n",
            "  adding: content/out_superposed/jazz/prelude_Piano_0.png (deflated 2%)\n",
            "  adding: content/out_superposed/jazz/timerem2_Piano_0.png (deflated 2%)\n",
            "  adding: content/out_superposed/jazz/Chameleon_Piano_0.png (deflated 11%)\n",
            "  adding: content/out_superposed/jazz/Zingaro - Jobim_Piano_0.png (deflated 1%)\n",
            "  adding: content/out_superposed/jazz/What is there to say_Piano_0.png (deflated 1%)\n",
            "  adding: content/out_superposed/jazz/hwdptrio_Piano_0.png (deflated 1%)\n",
            "  adding: content/out_superposed/jazz/ontheotherhand_Piano_0.png (deflated 2%)\n",
            "  adding: content/out_superposed/jazz/thiscantbelove_Piano_0.png (deflated 2%)\n",
            "  adding: content/out_superposed/jazz/Clifford1_Piano_0.png (deflated 1%)\n",
            "  adding: content/out_superposed/jazz/atIknew_Piano_0.png (deflated 2%)\n",
            "  adding: content/out_superposed/jazz/AutumnLeaves_Piano_0.png (deflated 3%)\n",
            "  adding: content/out_superposed/jazz/Taking a Chance On Love - Solo piano_Piano_0.png (deflated 1%)\n",
            "  adding: content/out_superposed/jazz/IALikeBeingInLove_Piano_0.png (deflated 2%)\n",
            "  adding: content/out_superposed/jazz/thereisnogreaterlove_Piano_0.png (deflated 2%)\n",
            "  adding: content/out_superposed/jazz/ladybegood_Piano_0.png (deflated 2%)\n",
            "  adding: content/out_superposed/jazz/Cubano Chant 2_Piano_0.png (deflated 1%)\n",
            "  adding: content/out_superposed/jazz/taketheatrain_Piano_0.png (deflated 2%)\n",
            "  adding: content/out_superposed/jazz/Warmvalleysolo_Piano_0.png (deflated 1%)\n",
            "  adding: content/out_superposed/jazz/I Concentrate on You_Piano_0.png (deflated 2%)\n",
            "  adding: content/out_superposed/jazz/The Masquerade is Over_Piano_0.png (deflated 2%)\n",
            "  adding: content/out_superposed/jazz/bluesette_Piano_0.png (deflated 4%)\n",
            "  adding: content/out_superposed/jazz/send in the clowns_Piano_0.png (deflated 2%)\n",
            "  adding: content/out_superposed/jazz/LoveWalked_Piano_0.png (deflated 2%)\n",
            "  adding: content/out_superposed/jazz/ISaidItbefore_Piano_0.png (deflated 2%)\n",
            "  adding: content/out_superposed/jazz/That Ole Devil Called Love_Piano_0.png (deflated 2%)\n",
            "  adding: content/out_superposed/jazz/Where is Love - solo_Piano_0.png (deflated 2%)\n",
            "  adding: content/out_superposed/jazz/Desafinado78_Piano_0.png (deflated 4%)\n",
            "  adding: content/out_superposed/jazz/It'sAlmostLikeBeingInLove_Piano_0.png (deflated 2%)\n",
            "  adding: content/out_superposed/jazz/TheSongisYoutrio_Piano_0.png (deflated 2%)\n",
            "  adding: content/out_superposed/jazz/NARDIS_Piano_0.png (deflated 2%)\n",
            "  adding: content/out_superposed/jazz/TheDuke_Piano_0.png (deflated 2%)\n",
            "  adding: content/out_superposed/jazz/soon_Piano_0.png (deflated 2%)\n",
            "  adding: content/out_superposed/jazz/riofunk_Piano_0.png (deflated 3%)\n",
            "  adding: content/out_superposed/jazz/ARemarkYouMade_Piano_0.png (deflated 0%)\n",
            "  adding: content/out_superposed/jazz/angela_Piano_0.png (deflated 2%)\n",
            "  adding: content/out_superposed/jazz/Alabama_Piano_0.png (deflated 2%)\n",
            "  adding: content/out_superposed/jazz/eyeotbeh_Piano_0.png (deflated 4%)\n",
            "  adding: content/out_superposed/jazz/Cantabile 2_Piano_0.png (deflated 2%)\n",
            "  adding: content/out_superposed/jazz/Out of Nowhere 1_Piano_0.png (deflated 2%)\n",
            "  adding: content/out_superposed/jazz/StrangeMeadowlark_Piano_0.png (deflated 1%)\n",
            "  adding: content/out_superposed/jazz/Gaviota trio 2_Piano_0.png (deflated 2%)\n",
            "  adding: content/out_superposed/jazz/I Hear a Rhapsody_Piano_0.png (deflated 2%)\n",
            "  adding: content/out_superposed/jazz/There will never be another you_Piano_0.png (deflated 1%)\n",
            "  adding: content/out_superposed/jazz/killerjoe_Piano_0.png (deflated 10%)\n",
            "  adding: content/out_superposed/jazz/moanin_Piano_0.png (deflated 4%)\n",
            "  adding: content/out_superposed/jazz/AllOfMe2_Piano_0.png (deflated 2%)\n",
            "  adding: content/out_superposed/jazz/AllTheThings Reharmonized_Piano_0.png (deflated 2%)\n",
            "  adding: content/out_superposed/jazz/Blue_In_Green_Piano_0.png (deflated 2%)\n",
            "  adding: content/out_superposed/jazz/All The Things You Are_Piano_0.png (deflated 2%)\n",
            "  adding: content/out_superposed/jazz/youdontknow trio_Piano_0.png (deflated 1%)\n",
            "  adding: content/out_superposed/jazz/speaklo3_Piano_0.png (deflated 1%)\n",
            "  adding: content/out_superposed/jazz/They say its wonderful_Piano_0.png (deflated 1%)\n",
            "  adding: content/out_superposed/jazz/Idkwhtime_Piano_0.png (deflated 2%)\n",
            "  adding: content/out_superposed/jazz/McKenzie-Ishouldcare2_Piano_0.png (deflated 2%)\n",
            "  adding: content/out_superposed/jazz/Some day My Prince_Piano_0.png (deflated 2%)\n",
            "  adding: content/out_superposed/jazz/estate_Piano_0.png (deflated 2%)\n",
            "  adding: content/out_superposed/jazz/hayBurner_Piano_0.png (deflated 3%)\n",
            "  adding: content/out_superposed/jazz/Tryalittle21_Piano_0.png (deflated 2%)\n",
            "  adding: content/out_superposed/jazz/cinema_Piano_0.png (deflated 1%)\n",
            "  adding: content/out_superposed/jazz/Autumn In NY_Piano_0.png (deflated 1%)\n",
            "  adding: content/out_superposed/jazz/Nutville_Piano_0.png (deflated 7%)\n",
            "  adding: content/out_superposed/jazz/olddevilmoon_Piano_0.png (deflated 3%)\n",
            "  adding: content/out_superposed/jazz/I Cover the Waterfront - solo_Piano_0.png (deflated 1%)\n",
            "  adding: content/out_superposed/jazz/lazybird_Piano_0.png (deflated 3%)\n",
            "  adding: content/out_superposed/jazz/sonnymoo_Piano_0.png (deflated 2%)\n",
            "  adding: content/out_superposed/jazz/Renewaltrio_Piano_0.png (deflated 1%)\n",
            "  adding: content/out_superposed/classical/ (stored 0%)\n",
            "  adding: content/out_superposed/classical/SUDBIN02_Piano_0.png (deflated 2%)\n",
            "  adding: content/out_superposed/classical/SUN01_Piano_0.png (deflated 3%)\n",
            "  adding: content/out_superposed/classical/DANILO02_Piano_0.png (deflated 1%)\n",
            "  adding: content/out_superposed/classical/GORDEL03_Piano_0.png (deflated 2%)\n",
            "  adding: content/out_superposed/classical/DANILO03_Piano_0.png (deflated 1%)\n",
            "  adding: content/out_superposed/classical/KRASNI12_Piano_0.png (deflated 2%)\n",
            "  adding: content/out_superposed/classical/CHOE03_Piano_0.png (deflated 1%)\n",
            "  adding: content/out_superposed/classical/BENABD07_Piano_0.png (deflated 3%)\n",
            "  adding: content/out_superposed/classical/KIM_B02_Piano_0.png (deflated 2%)\n",
            "  adding: content/out_superposed/classical/mikhailoff02_Piano_0.png (deflated 2%)\n",
            "  adding: content/out_superposed/classical/K279 Piano sonata n01 1mov_Piano_0.png (deflated 3%)\n",
            "  adding: content/out_superposed/classical/FONG01_Piano_0.png (deflated 2%)\n",
            "  adding: content/out_superposed/classical/YOO01_Piano_0.png (deflated 2%)\n",
            "  adding: content/out_superposed/classical/LUO03_Piano_0.png (deflated 1%)\n",
            "  adding: content/out_superposed/classical/YOO07_Piano_0.png (deflated 1%)\n",
            "  adding: content/out_superposed/classical/HUAN_B03_Piano_0.png (deflated 1%)\n",
            "  adding: content/out_superposed/classical/schubert_D850_1_format0_Piano_0.png (deflated 2%)\n",
            "  adding: content/out_superposed/classical/schub_d760_4_format0_Piano_0.png (deflated 2%)\n",
            "  adding: content/out_superposed/classical/KOLESS02_Piano_0.png (deflated 1%)\n",
            "  adding: content/out_superposed/classical/schu_143_2_format0_Piano_0.png (deflated 2%)\n",
            "  adding: content/out_superposed/classical/UENO03_Piano_0.png (deflated 1%)\n",
            "  adding: content/out_superposed/classical/KARYAG01_Piano_0.png (deflated 1%)\n",
            "  adding: content/out_superposed/classical/RAN05_Piano_0.png (deflated 2%)\n",
            "  adding: content/out_superposed/classical/KARYAG05_Piano_0.png (deflated 3%)\n",
            "  adding: content/out_superposed/classical/mz_545_1_format0_Piano_0.png (deflated 3%)\n",
            "  adding: content/out_superposed/classical/SHYBAY03_Piano_0.png (deflated 2%)\n",
            "  adding: content/out_superposed/classical/SEBAST03_Piano_0.png (deflated 2%)\n",
            "  adding: content/out_superposed/classical/chpn_op35_3_format0_Piano_0.png (deflated 2%)\n",
            "  adding: content/out_superposed/classical/YOO02_Piano_0.png (deflated 2%)\n",
            "  adding: content/out_superposed/classical/MCVEY04_Piano_0.png (deflated 1%)\n",
            "  adding: content/out_superposed/classical/chno1501_Piano_0.png (deflated 2%)\n",
            "  adding: content/out_superposed/classical/MORET02_Piano_0.png (deflated 2%)\n",
            "  adding: content/out_superposed/classical/HAGINO01_Piano_0.png (deflated 2%)\n",
            "  adding: content/out_superposed/classical/DANILO05_Piano_0.png (deflated 2%)\n",
            "  adding: content/out_superposed/classical/KARYAG08_Piano_0.png (deflated 2%)\n",
            "  adding: content/out_superposed/classical/LEE_K06_Piano_0.png (deflated 1%)\n",
            "  adding: content/out_superposed/classical/GADELI03_Piano_0.png (deflated 1%)\n",
            "  adding: content/out_superposed/classical/LUO02_Piano_0.png (deflated 1%)\n",
            "  adding: content/out_superposed/classical/HUAN_B04_Piano_0.png (deflated 1%)\n",
            "  adding: content/out_superposed/classical/KRASNI07_Piano_0.png (deflated 2%)\n",
            "  adding: content/out_superposed/classical/BENABD08_Piano_0.png (deflated 2%)\n",
            "  adding: content/out_superposed/classical/YOO04_Piano_0.png (deflated 2%)\n",
            "  adding: content/out_superposed/classical/BENABD01_Piano_0.png (deflated 2%)\n",
            "  adding: content/out_superposed/classical/SOLOM01_Piano_0.png (deflated 2%)\n",
            "  adding: content/out_superposed/classical/BENABD04_Piano_0.png (deflated 2%)\n",
            "  adding: content/out_superposed/classical/reflect_Piano_0.png (deflated 1%)\n",
            "  adding: content/out_superposed/classical/mz_570_3_format0_Piano_0.png (deflated 2%)\n",
            "  adding: content/out_superposed/classical/SCHU04_Piano_0.png (deflated 3%)\n",
            "  adding: content/out_superposed/classical/NAKAJI01_Piano_0.png (deflated 3%)\n",
            "  adding: content/out_superposed/classical/LEE_H03_Piano_0.png (deflated 1%)\n",
            "  adding: content/out_superposed/classical/clementi_opus36_6_1_format0_Piano_0.png (deflated 3%)\n",
            "  adding: content/out_superposed/classical/KRASNI14_Piano_0.png (deflated 1%)\n",
            "  adding: content/out_superposed/classical/GADELI01_Piano_0.png (deflated 1%)\n",
            "  adding: content/out_superposed/classical/schub_d960_1_format0_Piano_0.png (deflated 2%)\n",
            "  adding: content/out_superposed/classical/BENABD06_Piano_0.png (deflated 1%)\n",
            "  adding: content/out_superposed/classical/ISHIDA01_Piano_0.png (deflated 2%)\n",
            "  adding: content/out_superposed/classical/ZHOU03_Piano_0.png (deflated 3%)\n",
            "  adding: content/out_superposed/classical/MATSUM01_Piano_0.png (deflated 2%)\n",
            "  adding: content/out_superposed/classical/SUDBIN01_Piano_0.png (deflated 3%)\n",
            "  adding: content/out_superposed/classical/POTAMO03_Piano_0.png (deflated 1%)\n",
            "  adding: content/out_superposed/classical/MCVEY03_Piano_0.png (deflated 2%)\n",
            "  adding: content/out_superposed/classical/schubert_d935_3_format0_Piano_0.png (deflated 2%)\n",
            "  adding: content/out_superposed/classical/SINKEV08_Piano_0.png (deflated 2%)\n",
            "  adding: content/out_superposed/classical/SCHU01_Piano_0.png (deflated 1%)\n",
            "  adding: content/out_superposed/classical/BENABD03_Piano_0.png (deflated 6%)\n",
            "  adding: content/out_superposed/classical/IVLEVA04_Piano_0.png (deflated 2%)\n",
            "  adding: content/out_superposed/classical/NAKAJI03_Piano_0.png (deflated 2%)\n",
            "  adding: content/out_superposed/classical/RAN06_Piano_0.png (deflated 1%)\n",
            "  adding: content/out_superposed/classical/ADIG03_Piano_0.png (deflated 2%)\n",
            "  adding: content/out_superposed/classical/KRASNI08_Piano_0.png (deflated 1%)\n",
            "  adding: content/out_superposed/classical/IVLEVA01_Piano_0.png (deflated 3%)\n",
            "  adding: content/out_superposed/classical/GADELI02_Piano_0.png (deflated 3%)\n",
            "  adding: content/out_superposed/classical/mz_311_1_format0_Piano_0.png (deflated 3%)\n",
            "  adding: content/out_superposed/classical/LEE_J01_Piano_0.png (deflated 2%)\n",
            "  adding: content/out_superposed/classical/funer_Piano_0.png (deflated 2%)\n",
            "  adding: content/out_superposed/classical/SINKEV05_Piano_0.png (deflated 1%)\n",
            "  adding: content/out_superposed/classical/SINKEV09_Piano_0.png (deflated 2%)\n",
            "  adding: content/out_superposed/classical/UENO01_Piano_0.png (deflated 2%)\n",
            "  adding: content/out_superposed/classical/mendel_op30_1_format0_Piano_0.png (deflated 2%)\n",
            "  adding: content/out_superposed/classical/LEE_K03_Piano_0.png (deflated 2%)\n",
            "  adding: content/out_superposed/classical/victoria03_Piano_0.png (deflated 2%)\n",
            "  adding: content/out_superposed/classical/KARYAG07_Piano_0.png (deflated 1%)\n",
            "  adding: content/out_superposed/classical/Adagio in B flat_Piano_0.png (deflated 3%)\n",
            "  adding: content/out_superposed/classical/YOO06_Piano_0.png (deflated 1%)\n",
            "  adding: content/out_superposed/classical/pavane_Piano_0.png (deflated 2%)\n",
            "  adding: content/out_superposed/classical/mz_332_2_format0_Piano_0.png (deflated 3%)\n",
            "  adding: content/out_superposed/classical/Shychko01_Piano_0.png (deflated 2%)\n",
            "  adding: content/out_superposed/classical/LIAO01_Piano_0.png (deflated 2%)\n",
            "  adding: content/out_superposed/classical/BLINOV01_Piano_0.png (deflated 2%)\n",
            "  adding: content/out_superposed/classical/HSU01_Piano_0.png (deflated 3%)\n",
            "  adding: content/out_superposed/classical/02. Christe Eleison _Piano_0.png (deflated 3%)\n",
            "  adding: content/out_superposed/classical/HUAN_J01_Piano_0.png (deflated 2%)\n",
            "  adding: content/out_superposed/classical/TET02_Piano_0.png (deflated 8%)\n",
            "  adding: content/out_superposed/classical/MERJAN03_Piano_0.png (deflated 1%)\n",
            "  adding: content/out_superposed/classical/HONG03_Piano_0.png (deflated 1%)\n",
            "  adding: content/out_superposed/classical/schuim-1_format0_Piano_0.png (deflated 2%)\n",
            "  adding: content/out_superposed/classical/RAN07_Piano_0.png (deflated 1%)\n",
            "  adding: content/out_superposed/classical/CHEN02_Piano_0.png (deflated 2%)\n",
            "  adding: content/out_superposed/classical/LEE_K07_Piano_0.png (deflated 2%)\n",
            "  adding: content/out_superposed/classical/schu-120_Piano_0.png (deflated 2%)\n",
            "  adding: content/out_superposed/classical/EVSTIO01_Piano_0.png (deflated 3%)\n",
            "  adding: content/out_superposed/classical/KRASNI11_Piano_0.png (deflated 2%)\n",
            "  adding: content/out_superposed/classical/KWON01_Piano_0.png (deflated 1%)\n",
            "  adding: content/out_superposed/classical/KIM_W01_Piano_0.png (deflated 2%)\n",
            "  adding: content/out_superposed/classical/LEE_K05_Piano_0.png (deflated 2%)\n",
            "  adding: content/out_superposed/classical/LUO01_Piano_0.png (deflated 2%)\n",
            "  adding: content/out_superposed/classical/MCVEY02_Piano_0.png (deflated 1%)\n",
            "  adding: content/out_superposed/classical/hay-p31a_Piano_0.png (deflated 3%)\n",
            "  adding: content/out_superposed/classical/YOO05_Piano_0.png (deflated 2%)\n",
            "  adding: content/out_superposed/classical/KRASNI09_Piano_0.png (deflated 2%)\n",
            "  adding: content/out_superposed/classical/KIM_W03_Piano_0.png (deflated 1%)\n",
            "  adding: content/out_superposed/classical/MORET01_Piano_0.png (deflated 2%)\n",
            "  adding: content/out_superposed/classical/USHIKI02_Piano_0.png (deflated 2%)\n",
            "  adding: content/out_superposed/classical/RAN04_Piano_0.png (deflated 3%)\n",
            "  adding: content/out_superposed/classical/KOLESS03_Piano_0.png (deflated 1%)\n",
            "  adding: content/out_superposed/classical/BLINOV02_Piano_0.png (deflated 1%)\n",
            "  adding: content/out_superposed/classical/SUN03_Piano_0.png (deflated 1%)\n",
            "  adding: content/out_superposed/classical/MERJAN01_Piano_0.png (deflated 2%)\n",
            "  adding: content/out_superposed/classical/MATSUM04_Piano_0.png (deflated 1%)\n",
            "  adding: content/out_superposed/classical/FALIKS04_Piano_0.png (deflated 1%)\n",
            "  adding: content/out_superposed/classical/SUDBIN03_Piano_0.png (deflated 1%)\n",
            "  adding: content/out_superposed/classical/ISHIDA03_Piano_0.png (deflated 2%)\n",
            "  adding: content/out_superposed/classical/SINKEV11_Piano_0.png (deflated 1%)\n",
            "  adding: content/out_superposed/classical/SEBAST01_Piano_0.png (deflated 3%)\n",
            "  adding: content/out_superposed/classical/SINKEV07_Piano_0.png (deflated 2%)\n",
            "  adding: content/out_superposed/classical/KRASNI01_Piano_0.png (deflated 4%)\n",
            "  adding: content/out_superposed/classical/POTAMO01_Piano_0.png (deflated 2%)\n",
            "  adding: content/out_superposed/classical/beethoven_opus10_2_format0_Piano_0.png (deflated 3%)\n",
            "  adding: content/out_superposed/classical/Lu06_Piano_0.png (deflated 2%)\n",
            "  adding: content/out_superposed/classical/YOU03_Piano_0.png (deflated 2%)\n",
            "  adding: content/out_superposed/classical/CHEN01_Piano_0.png (deflated 0%)\n",
            "  adding: content/out_superposed/classical/bor_ps1_format0_Piano_0.png (deflated 1%)\n",
            "  adding: content/out_superposed/classical/SUN02_Piano_0.png (deflated 1%)\n",
            "  adding: content/out_superposed/classical/BENABD09_Piano_0.png (deflated 2%)\n",
            "  adding: content/out_superposed/classical/LEE_H01_Piano_0.png (deflated 2%)\n",
            "  adding: content/out_superposed/classical/KRASNI04_Piano_0.png (deflated 1%)\n",
            "  adding: content/out_superposed/classical/SINKEV02_Piano_0.png (deflated 1%)\n",
            "  adding: content/out_superposed/classical/KWON02_Piano_0.png (deflated 2%)\n",
            "  adding: content/out_superposed/classical/SHYBAY01_Piano_0.png (deflated 2%)\n",
            "  adding: content/out_superposed/classical/schu_143_1_format0_Piano_0.png (deflated 2%)\n",
            "  adding: content/out_superposed/classical/TET03_Piano_0.png (deflated 2%)\n",
            "  adding: content/out_superposed/classical/mond_1_format0_Piano_0.png (deflated 2%)\n",
            "  adding: content/out_superposed/classical/YOU01_Piano_0.png (deflated 1%)\n",
            "  adding: content/out_superposed/classical/HSU03_Piano_0.png (deflated 1%)\n",
            "  adding: content/out_superposed/classical/HSU04_Piano_0.png (deflated 2%)\n",
            "  adding: content/out_superposed/classical/Debussy Suite Bergamasque 1mov_Piano_0.png (deflated 2%)\n",
            "  adding: content/out_superposed/classical/DANILO04_Piano_0.png (deflated 2%)\n",
            "  adding: content/out_superposed/classical/ZHOU01_Piano_0.png (deflated 2%)\n",
            "  adding: content/out_superposed/classical/LIAO05_Piano_0.png (deflated 2%)\n",
            "  adding: content/out_superposed/classical/hay-p52a_Piano_0.png (deflated 3%)\n",
            "  adding: content/out_superposed/classical/HUAN_J03_Piano_0.png (deflated 2%)\n",
            "  adding: content/out_superposed/classical/ty_oktober_format0_Piano_0.png (deflated 3%)\n",
            "  adding: content/out_superposed/classical/brahms_opus1_1_format0_Piano_0.png (deflated 2%)\n",
            "  adding: content/out_superposed/classical/FALIKS05_Piano_0.png (deflated 2%)\n",
            "  adding: content/out_superposed/classical/USHIKI01_Piano_0.png (deflated 2%)\n",
            "  adding: content/out_superposed/classical/MCVEY01_Piano_0.png (deflated 2%)\n",
            "  adding: content/out_superposed/classical/RAN08_Piano_0.png (deflated 2%)\n",
            "  adding: content/out_superposed/classical/haydn_35_2_format0_Piano_0.png (deflated 3%)\n",
            "  adding: content/out_superposed/classical/SOLOM04_Piano_0.png (deflated 2%)\n",
            "  adding: content/out_superposed/classical/schubert_D850_4_format0_Piano_0.png (deflated 2%)\n",
            "  adding: content/out_superposed/classical/RAN03_Piano_0.png (deflated 1%)\n",
            "  adding: content/out_superposed/classical/HONG01_Piano_0.png (deflated 2%)\n",
            "  adding: content/out_superposed/classical/OUSSET03_Piano_0.png (deflated 3%)\n",
            "  adding: content/out_superposed/classical/LEE_K04_Piano_0.png (deflated 2%)\n",
            "  adding: content/out_superposed/classical/KARYAG04_Piano_0.png (deflated 2%)\n",
            "  adding: content/out_superposed/classical/frederic-chopin-piano-sonata-2-op35-3-funeral-march_Piano_0.png (deflated 2%)\n",
            "  adding: content/out_superposed/classical/HUAN_B02_Piano_0.png (deflated 1%)\n",
            "  adding: content/out_superposed/classical/SOLOM05_Piano_0.png (deflated 2%)\n",
            "  adding: content/out_superposed/classical/TOIVIO03_Piano_0.png (deflated 1%)\n",
            "  adding: content/out_superposed/classical/SINKEV06_Piano_0.png (deflated 3%)\n",
            "  adding: content/out_superposed/classical/men-gon2_Piano_0.png (deflated 2%)\n",
            "  adding: content/out_superposed/classical/franceschetti02_Piano_0.png (deflated 2%)\n",
            "  adding: content/out_superposed/classical/OUSSET02_Piano_0.png (deflated 2%)\n",
            "  adding: content/out_superposed/classical/LIAO02_Piano_0.png (deflated 2%)\n",
            "  adding: content/out_superposed/classical/bach_846_format0_Piano_0.png (deflated 4%)\n",
            "  adding: content/out_superposed/classical/KARYAG03_Piano_0.png (deflated 2%)\n",
            "  adding: content/out_superposed/classical/TOIVIO01_Piano_0.png (deflated 2%)\n",
            "  adding: content/out_superposed/classical/rac_op3_2_format0_Piano_0.png (deflated 2%)\n",
            "  adding: content/out_superposed/classical/HAGINO02_Piano_0.png (deflated 2%)\n",
            "  adding: content/out_superposed/classical/SEBAST02_Piano_0.png (deflated 2%)\n",
            "  adding: content/out_superposed/classical/mz_570_2_format0_Piano_0.png (deflated 3%)\n",
            "  adding: content/out_superposed/classical/DANILO01_Piano_0.png (deflated 2%)\n",
            "  adding: content/out_superposed/classical/FONG03_Piano_0.png (deflated 1%)\n",
            "  adding: content/out_superposed/classical/beethoven_opus22_1_format0_Piano_0.png (deflated 3%)\n",
            "  adding: content/out_superposed/classical/schubert_d935_1_format0_Piano_0.png (deflated 2%)\n",
            "  adding: content/out_superposed/classical/LEE_K01_Piano_0.png (deflated 2%)\n",
            "  adding: content/out_superposed/classical/KOLESS01_Piano_0.png (deflated 2%)\n",
            "  adding: content/out_superposed/classical/Piano Sonata n10 2mov_Piano_0.png (deflated 2%)\n",
            "  adding: content/out_superposed/classical/GORDEL01_Piano_0.png (deflated 3%)\n",
            "  adding: content/out_superposed/classical/KRASNI02_Piano_0.png (deflated 1%)\n",
            "  adding: content/out_superposed/classical/haydn_43_1_format0_Piano_0.png (deflated 3%)\n",
            "  adding: content/out_superposed/classical/CHEN04_Piano_0.png (deflated 2%)\n",
            "  adding: content/out_superposed/classical/HUAN_B01_Piano_0.png (deflated 1%)\n",
            "  adding: content/out_superposed/classical/KRASNI10_Piano_0.png (deflated 2%)\n",
            "  adding: content/out_superposed/classical/SINKEV01_Piano_0.png (deflated 3%)\n",
            "  adding: content/out_superposed/classical/mz_333_1_format0_Piano_0.png (deflated 2%)\n",
            "  adding: content/out_superposed/classical/chpn-p15_format0_Piano_0.png (deflated 3%)\n",
            "  adding: content/out_superposed/classical/pathet2_Piano_0.png (deflated 2%)\n",
            "  adding: content/out_superposed/classical/K570 Piano Sonata 2mov_Piano_0.png (deflated 3%)\n",
            "  adding: content/out_superposed/classical/HONG02_Piano_0.png (deflated 2%)\n",
            "  adding: content/out_superposed/classical/schub_d760_1_format0_Piano_0.png (deflated 2%)\n",
            "  adding: content/out_superposed/classical/YOO03_Piano_0.png (deflated 1%)\n",
            "  adding: content/out_superposed/classical/RAN02_Piano_0.png (deflated 2%)\n",
            "  adding: content/out_superposed/classical/TET01_Piano_0.png (deflated 3%)\n",
            "  adding: content/out_superposed/classical/waldstein_1_format0_Piano_0.png (deflated 2%)\n",
            "  adding: content/out_superposed/classical/bach_847_format0_Piano_0.png (deflated 3%)\n",
            "  adding: content/out_superposed/classical/CHOE02_Piano_0.png (deflated 3%)\n",
            "  adding: content/out_superposed/classical/chno4801_Piano_0.png (deflated 1%)\n",
            "  adding: content/out_superposed/classical/KRASNI13_Piano_0.png (deflated 2%)\n",
            "  adding: content/out_superposed/classical/scn16_4_format0_Piano_0.png (deflated 2%)\n",
            "  adding: content/out_superposed/classical/BENABD05_Piano_0.png (deflated 1%)\n",
            "  adding: content/out_superposed/classical/LEE_J03_Piano_0.png (deflated 2%)\n",
            "  adding: content/out_superposed/classical/BENABD10_Piano_0.png (deflated 2%)\n",
            "  adding: content/out_superposed/classical/ISHIDA02_Piano_0.png (deflated 3%)\n",
            "  adding: content/out_superposed/classical/HAGINO03_Piano_0.png (deflated 2%)\n",
            "  adding: content/out_superposed/classical/MATSUM03_Piano_0.png (deflated 1%)\n",
            "  adding: content/out_superposed/classical/KRASNI06_Piano_0.png (deflated 2%)\n",
            "  adding: content/out_superposed/classical/ravotoc_Piano_0.png (deflated 3%)\n",
            "  adding: content/out_superposed/classical/IVLEVA03_Piano_0.png (deflated 3%)\n",
            "  adding: content/out_superposed/classical/KIM_W02_Piano_0.png (deflated 2%)\n",
            "  adding: content/out_superposed/classical/deb_pass_format0_Piano_0.png (deflated 2%)\n",
            "  adding: content/out_superposed/classical/KIM_B03_Piano_0.png (deflated 0%)\n",
            "  adding: content/out_superposed/classical/K570 Piano Sonata 3mov_Piano_0.png (deflated 2%)\n",
            "  adding: content/out_superposed/classical/clementi_opus36_5_1_format0_Piano_0.png (deflated 3%)\n",
            "  adding: content/out_superposed/classical/bjsbmm02_Piano_0.png (deflated 3%)\n",
            "  adding: content/out_superposed/classical/EVSTIO03_Piano_0.png (deflated 1%)\n",
            "  adding: content/out_superposed/classical/mozk332b_Piano_0.png (deflated 3%)\n",
            "  adding: content/out_superposed/classical/LEE_K02_Piano_0.png (deflated 1%)\n",
            "  adding: content/out_superposed/classical/FALIKS06_Piano_0.png (deflated 2%)\n",
            "  adding: content/out_superposed/classical/KRASNI03_Piano_0.png (deflated 2%)\n",
            "  adding: content/out_superposed/classical/KARYAG06_Piano_0.png (deflated 2%)\n",
            "  adding: content/out_superposed/classical/KIM_B01_Piano_0.png (deflated 2%)\n",
            "  adding: content/out_superposed/classical/HUAN_J02_Piano_0.png (deflated 1%)\n",
            "  adding: content/out_superposed/classical/deb_prel_format0_Piano_0.png (deflated 2%)\n",
            "  adding: content/out_superposed/classical/schumann_Piano_0.png (deflated 2%)\n",
            "  adding: content/out_superposed/classical/SCHU05_Piano_0.png (deflated 2%)\n",
            "  adding: content/out_superposed/classical/pathetique_3_format0_Piano_0.png (deflated 2%)\n",
            "  adding: content/out_superposed/classical/ADIG01_Piano_0.png (deflated 3%)\n",
            "  adding: content/out_superposed/classical/OUSSET01_Piano_0.png (deflated 2%)\n",
            "  adding: content/out_superposed/classical/KIM_J04_Piano_0.png (deflated 2%)\n",
            "  adding: content/out_superposed/classical/haydn_35_1_format0_Piano_0.png (deflated 2%)\n",
            "  adding: content/out_superposed/classical/chpn_op66_format0_Piano_0.png (deflated 2%)\n"
          ],
          "name": "stdout"
        }
      ]
    },
    {
      "cell_type": "markdown",
      "metadata": {
        "id": "CD8EYa8MP12r"
      },
      "source": [
        "## More analysis"
      ]
    },
    {
      "cell_type": "code",
      "metadata": {
        "id": "NKUt6IG9gevT"
      },
      "source": [
        "def high_pass_x_y(image):\n",
        "  x_var = image[:,:,1:,:] - image[:,:,:-1,:]\n",
        "  y_var = image[:,1:,:,:] - image[:,:-1,:,:]\n",
        "\n",
        "  return x_var, y_var"
      ],
      "execution_count": 49,
      "outputs": []
    },
    {
      "cell_type": "code",
      "metadata": {
        "id": "89Rk5gm6laz6"
      },
      "source": [
        "def imshow(image, title=None):\n",
        "  if len(image.shape) > 3:\n",
        "    image = tf.squeeze(image, axis=0)\n",
        "\n",
        "  plt.imshow(image[...,0], cmap='gray')\n",
        "  if title:\n",
        "    plt.title(title)"
      ],
      "execution_count": 50,
      "outputs": []
    },
    {
      "cell_type": "code",
      "metadata": {
        "colab": {
          "base_uri": "https://localhost:8080/",
          "height": 394
        },
        "id": "Jq2TvWLJkxUK",
        "outputId": "948ac6cb-2c16-4182-edfc-9a36751dc600"
      },
      "source": [
        "x_deltas, y_deltas = high_pass_x_y(content_image)\n",
        "\n",
        "plt.figure(figsize=(18,10))\n",
        "plt.subplot(2,2,1)\n",
        "imshow(clip_0_1(2*y_deltas+0.5), \"Horizontal Deltas: Original\")\n",
        "\n",
        "plt.subplot(2,2,2)\n",
        "imshow(clip_0_1(2*x_deltas+0.5), \"Vertical Deltas: Original\")\n",
        "\n",
        "x_deltas, y_deltas = high_pass_x_y(image)\n",
        "\n",
        "plt.subplot(2,2,3)\n",
        "imshow(clip_0_1(2*y_deltas+0.5), \"Horizontal Deltas: Styled\")\n",
        "\n",
        "plt.subplot(2,2,4)\n",
        "imshow(clip_0_1(2*x_deltas+0.5), \"Vertical Deltas: Styled\")"
      ],
      "execution_count": 51,
      "outputs": [
        {
          "output_type": "display_data",
          "data": {
            "image/png": "[encoded data removed]",
            "text/plain": [
              "<Figure size 1296x720 with 4 Axes>"
            ]
          },
          "metadata": {
            "tags": [],
            "needs_background": "light"
          }
        }
      ]
    },
    {
      "cell_type": "code",
      "metadata": {
        "colab": {
          "base_uri": "https://localhost:8080/",
          "height": 90
        },
        "id": "odwHvvxqk0lf",
        "outputId": "fad73b57-293e-4cd4-f0a7-2f674745a237"
      },
      "source": [
        "plt.figure(figsize=(14,10))\n",
        "\n",
        "sobel = tf.image.sobel_edges(content_image)\n",
        "plt.subplot(1,2,1)\n",
        "imshow(clip_0_1(sobel[...,0]/4+0.5), \"Horizontal Sobel-edges\")\n",
        "plt.subplot(1,2,2)\n",
        "imshow(clip_0_1(sobel[...,1]/4+0.5), \"Vertical Sobel-edges\")"
      ],
      "execution_count": 52,
      "outputs": [
        {
          "output_type": "display_data",
          "data": {
            "image/png": "[encoded data removed]",
            "text/plain": [
              "<Figure size 1008x720 with 2 Axes>"
            ]
          },
          "metadata": {
            "tags": [],
            "needs_background": "light"
          }
        }
      ]
    },
    {
      "cell_type": "code",
      "metadata": {
        "id": "61_tHNVHk3kn"
      },
      "source": [
        "def total_variation_loss(image):\n",
        "  x_deltas, y_deltas = high_pass_x_y(image)\n",
        "  return tf.reduce_sum(tf.abs(x_deltas)) + tf.reduce_sum(tf.abs(y_deltas))"
      ],
      "execution_count": 53,
      "outputs": []
    },
    {
      "cell_type": "code",
      "metadata": {
        "colab": {
          "base_uri": "https://localhost:8080/"
        },
        "id": "2bMwnhCkk6B0",
        "outputId": "965e08f1-071c-446a-be6d-298febe6d0b1"
      },
      "source": [
        "total_variation_loss(image).numpy()"
      ],
      "execution_count": 54,
      "outputs": [
        {
          "output_type": "execute_result",
          "data": {
            "text/plain": [
              "9427.986"
            ]
          },
          "metadata": {
            "tags": []
          },
          "execution_count": 54
        }
      ]
    },
    {
      "cell_type": "code",
      "metadata": {
        "colab": {
          "base_uri": "https://localhost:8080/"
        },
        "id": "JEnc-TIOk8Un",
        "outputId": "ddb42fc2-4554-44af-c2d6-72ecd9fadc83"
      },
      "source": [
        "tf.image.total_variation(image).numpy()"
      ],
      "execution_count": 55,
      "outputs": [
        {
          "output_type": "execute_result",
          "data": {
            "text/plain": [
              "array([9427.986], dtype=float32)"
            ]
          },
          "metadata": {
            "tags": []
          },
          "execution_count": 55
        }
      ]
    },
    {
      "cell_type": "code",
      "metadata": {
        "id": "dZ6mv6Bvk-m4"
      },
      "source": [
        "total_variation_weight=30"
      ],
      "execution_count": 56,
      "outputs": []
    },
    {
      "cell_type": "code",
      "metadata": {
        "id": "hGbK_9eblBON"
      },
      "source": [
        "@tf.function()\n",
        "def train_step(image):\n",
        "  with tf.GradientTape() as tape:\n",
        "    outputs = extractor(image)\n",
        "    loss = style_content_loss(outputs)\n",
        "    loss += total_variation_weight*tf.image.total_variation(image)\n",
        "\n",
        "  grad = tape.gradient(loss, image)\n",
        "  opt.apply_gradients([(grad, image)])\n",
        "  image.assign(clip_0_1(image))"
      ],
      "execution_count": 57,
      "outputs": []
    },
    {
      "cell_type": "code",
      "metadata": {
        "id": "Clz360DLlD4a"
      },
      "source": [
        "image = tf.Variable(content_image)"
      ],
      "execution_count": 58,
      "outputs": []
    },
    {
      "cell_type": "code",
      "metadata": {
        "colab": {
          "base_uri": "https://localhost:8080/",
          "height": 144
        },
        "id": "Els34eiylGZ7",
        "outputId": "af28b0ba-6ffe-4047-8c5c-ecd73de0aa50"
      },
      "source": [
        "import time\n",
        "start = time.time()\n",
        "\n",
        "epochs = 10\n",
        "steps_per_epoch = 100\n",
        "\n",
        "step = 0\n",
        "for n in range(epochs):\n",
        "  for m in range(steps_per_epoch):\n",
        "    step += 1\n",
        "    train_step(image)\n",
        "    print(\".\", end='')\n",
        "  display.clear_output(wait=True)\n",
        "  display.display(tensor_to_image(image))\n",
        "  print(\"Train step: {}\".format(step))\n",
        "\n",
        "end = time.time()\n",
        "print(\"Total time: {:.1f}\".format(end-start))"
      ],
      "execution_count": 59,
      "outputs": [
        {
          "output_type": "display_data",
          "data": {
            "image/png": "[encoded data removed]",
            "text/plain": [
              "<PIL.Image.Image image mode=L size=1440x106 at 0x7F4DBE86CCC0>"
            ]
          },
          "metadata": {
            "tags": []
          }
        },
        {
          "output_type": "stream",
          "text": [
            "Train step: 1000\n",
            "Total time: 9.2\n"
          ],
          "name": "stdout"
        }
      ]
    },
    {
      "cell_type": "code",
      "metadata": {
        "colab": {
          "base_uri": "https://localhost:8080/",
          "height": 130
        },
        "id": "-m9tzsFL5ZLm",
        "outputId": "7141b8a7-2d57-4f6b-a36b-c65bbaf19bc5"
      },
      "source": [
        "# print(image)\n",
        "image_ = tensor_to_image(image)\n",
        "image_ = np.array(image_, dtype=np.uint8)\n",
        "# print(image_)\n",
        "\n",
        "# use 4 different thresholds\n",
        "thresholds = [50,100, 150, 200]\n",
        "\n",
        "# create a 2x2 image array\n",
        "fig, ax_arr = plt.subplots(2,2)\n",
        "\n",
        "# iterate over the thresholds and image axes\n",
        "for ax, th in zip(ax_arr.ravel(), thresholds):\n",
        "    # bw is the black and white array with the same size and shape\n",
        "    # as the original array.  the color map will interpret the 0.0 to 1.0 \n",
        "    # float array as being either black or white.\n",
        "    bw = 1.0*(image_ > th)\n",
        "    ax.imshow(bw, cmap=plt.cm.gray)\n",
        "    ax.axis('off')\n",
        "\n",
        "# remove some of the extra white space\n",
        "fig.tight_layout(h_pad=-1.5, w_pad=-6.5)"
      ],
      "execution_count": 60,
      "outputs": [
        {
          "output_type": "display_data",
          "data": {
            "image/png": "[encoded data removed]",
            "text/plain": [
              "<Figure size 432x288 with 4 Axes>"
            ]
          },
          "metadata": {
            "tags": [],
            "needs_background": "light"
          }
        }
      ]
    },
    {
      "cell_type": "code",
      "metadata": {
        "id": "n40HePLelI_Z"
      },
      "source": [
        "# file_name = 'stylized-image.png'\n",
        "# tensor_to_image(image).save(file_name)\n",
        "\n",
        "# try:\n",
        "#  from google.colab import files\n",
        "# except ImportError:\n",
        "#    pass\n",
        "# else:\n",
        "#  files.download(file_name)"
      ],
      "execution_count": 61,
      "outputs": []
    },
    {
      "cell_type": "code",
      "metadata": {
        "id": "CI9afc0XmbTL"
      },
      "source": [
        ""
      ],
      "execution_count": 61,
      "outputs": []
    }
  ]
}