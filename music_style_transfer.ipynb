{
  "nbformat": 4,
  "nbformat_minor": 0,
  "metadata": {
    "colab": {
      "name": "music_style_transfer.ipynb",
      "provenance": [],
      "collapsed_sections": [],
      "mount_file_id": "1thB3TvEDn28AA1hdlEpNViXblf7Vb71o",
      "authorship_tag": "ABX9TyMxqWC+Oz5+tb5qsbqJ6TxE",
      "include_colab_link": true
    },
    "kernelspec": {
      "name": "python3",
      "display_name": "Python 3"
    },
    "accelerator": "GPU"
  },
  "cells": [
    {
      "cell_type": "markdown",
      "metadata": {
        "id": "view-in-github",
        "colab_type": "text"
      },
      "source": [
        "<a href=\"https://colab.research.google.com/github/yeshwanthv5/musical_chess/blob/main/music_style_transfer.ipynb\" target=\"_parent\"><img src=\"https://colab.research.google.com/assets/colab-badge.svg\" alt=\"Open In Colab\"/></a>"
      ]
    },
    {
      "cell_type": "code",
      "metadata": {
        "id": "htSe3MkJY1S8"
      },
      "source": [
        "import tensorflow as tf\n",
        "\n",
        "from tensorflow.keras import layers\n",
        "import matplotlib.pyplot as plt\n",
        "import os\n",
        "from tqdm import tqdm\n",
        "\n",
        "import numpy as np\n",
        "import PIL\n",
        "import PIL.Image\n",
        "import tensorflow_datasets as tfds\n",
        "import pathlib\n",
        "import IPython.display as display"
      ],
      "execution_count": 38,
      "outputs": []
    },
    {
      "cell_type": "code",
      "metadata": {
        "colab": {
          "base_uri": "https://localhost:8080/"
        },
        "id": "res72P0FXhyy",
        "outputId": "5883253e-919e-4a03-a736-1a7341d55bc4"
      },
      "source": [
        "data_dir = '/content/drive/MyDrive/Fall 2020/CPSC 559/Project/data/images'\n",
        "data_dir = pathlib.Path(data_dir)\n",
        "data_dir"
      ],
      "execution_count": 39,
      "outputs": [
        {
          "output_type": "execute_result",
          "data": {
            "text/plain": [
              "PosixPath('/content/drive/MyDrive/Fall 2020/CPSC 559/Project/data/images')"
            ]
          },
          "metadata": {
            "tags": []
          },
          "execution_count": 39
        }
      ]
    },
    {
      "cell_type": "code",
      "metadata": {
        "colab": {
          "base_uri": "https://localhost:8080/"
        },
        "id": "AlEQVwdEXtJm",
        "outputId": "f6dbfe9a-cbf3-4379-832f-6594fa26ed69"
      },
      "source": [
        "image_count = len(list(data_dir.glob('*/*.png')))\n",
        "print(image_count)"
      ],
      "execution_count": 40,
      "outputs": [
        {
          "output_type": "stream",
          "text": [
            "530\n"
          ],
          "name": "stdout"
        }
      ]
    },
    {
      "cell_type": "code",
      "metadata": {
        "colab": {
          "base_uri": "https://localhost:8080/",
          "height": 110
        },
        "id": "5PhlvttAXxit",
        "outputId": "b051d470-16f9-4bcf-db8e-21ca26165cab"
      },
      "source": [
        "classical_list = list(data_dir.glob('classical/*'))\n",
        "PIL.Image.open(str(classical_list[0]))"
      ],
      "execution_count": 41,
      "outputs": [
        {
          "output_type": "execute_result",
          "data": {
            "image/png": "[encoded data removed]",
            "text/plain": [
              "<PIL.PngImagePlugin.PngImageFile image mode=L size=1440x106 at 0x7F77AC2674E0>"
            ]
          },
          "metadata": {
            "tags": []
          },
          "execution_count": 41
        }
      ]
    },
    {
      "cell_type": "code",
      "metadata": {
        "colab": {
          "base_uri": "https://localhost:8080/",
          "height": 110
        },
        "id": "qWAUTKHuYE_7",
        "outputId": "46b36ba4-5499-47ba-a03b-798ff62d6572"
      },
      "source": [
        "jazz_list = list(data_dir.glob('jazz/*'))\n",
        "PIL.Image.open(str(jazz_list[0]))"
      ],
      "execution_count": 42,
      "outputs": [
        {
          "output_type": "execute_result",
          "data": {
            "image/png": "[encoded data removed]",
            "text/plain": [
              "<PIL.PngImagePlugin.PngImageFile image mode=L size=1440x106 at 0x7F77AC267438>"
            ]
          },
          "metadata": {
            "tags": []
          },
          "execution_count": 42
        }
      ]
    },
    {
      "cell_type": "code",
      "metadata": {
        "colab": {
          "base_uri": "https://localhost:8080/"
        },
        "id": "0UlMrXQEaI8P",
        "outputId": "51788e56-1007-44d4-d58e-6d234293d89d"
      },
      "source": [
        "content_image = np.asarray(PIL.Image.open(str(jazz_list[0])))\n",
        "content_image = content_image[..., np.newaxis]\n",
        "content_image = content_image[np.newaxis, ...]\n",
        "normalization_layer = tf.keras.layers.experimental.preprocessing.Rescaling(1./255)\n",
        "content_image = normalization_layer(content_image)\n",
        "content_image.shape"
      ],
      "execution_count": 43,
      "outputs": [
        {
          "output_type": "execute_result",
          "data": {
            "text/plain": [
              "TensorShape([1, 106, 1440, 1])"
            ]
          },
          "metadata": {
            "tags": []
          },
          "execution_count": 43
        }
      ]
    },
    {
      "cell_type": "code",
      "metadata": {
        "id": "Xi8KzAbcVqhz"
      },
      "source": [
        "batch_size = 32\n",
        "img_height = 107\n",
        "img_width = 720*2"
      ],
      "execution_count": 44,
      "outputs": []
    },
    {
      "cell_type": "code",
      "metadata": {
        "colab": {
          "base_uri": "https://localhost:8080/"
        },
        "id": "ZIQaTcYiYTxj",
        "outputId": "f69eae27-1664-4f6f-c530-e82ebd2f3758"
      },
      "source": [
        "train_ds = tf.keras.preprocessing.image_dataset_from_directory(\n",
        "  data_dir,\n",
        "  validation_split=0.2,\n",
        "  subset=\"training\",\n",
        "  seed=123,\n",
        "  color_mode='grayscale',\n",
        "  image_size=(img_height, img_width),\n",
        "  batch_size=batch_size)"
      ],
      "execution_count": 45,
      "outputs": [
        {
          "output_type": "stream",
          "text": [
            "Found 530 files belonging to 2 classes.\n",
            "Using 424 files for training.\n"
          ],
          "name": "stdout"
        }
      ]
    },
    {
      "cell_type": "code",
      "metadata": {
        "colab": {
          "base_uri": "https://localhost:8080/"
        },
        "id": "OWHuk4sMYjsE",
        "outputId": "d92d5f49-ecba-467e-a2b2-26858e868af4"
      },
      "source": [
        "val_ds = tf.keras.preprocessing.image_dataset_from_directory(\n",
        "  data_dir,\n",
        "  validation_split=0.2,\n",
        "  subset=\"validation\",\n",
        "  seed=123,\n",
        "  color_mode='grayscale',\n",
        "  image_size=(img_height, img_width),\n",
        "  batch_size=batch_size)"
      ],
      "execution_count": 46,
      "outputs": [
        {
          "output_type": "stream",
          "text": [
            "Found 530 files belonging to 2 classes.\n",
            "Using 106 files for validation.\n"
          ],
          "name": "stdout"
        }
      ]
    },
    {
      "cell_type": "code",
      "metadata": {
        "colab": {
          "base_uri": "https://localhost:8080/"
        },
        "id": "DZh6MA0oYqpl",
        "outputId": "d5e34fe6-db34-4c2a-ee97-83c6814c14e6"
      },
      "source": [
        "class_names = train_ds.class_names\n",
        "print(class_names)"
      ],
      "execution_count": 47,
      "outputs": [
        {
          "output_type": "stream",
          "text": [
            "['classical', 'jazz']\n"
          ],
          "name": "stdout"
        }
      ]
    },
    {
      "cell_type": "code",
      "metadata": {
        "colab": {
          "base_uri": "https://localhost:8080/"
        },
        "id": "MrahoJcmYttK",
        "outputId": "0e63788f-da03-49ea-c7a2-475ff72625fd"
      },
      "source": [
        "for image_batch, labels_batch in train_ds:\n",
        "  print(image_batch.shape)\n",
        "  print(labels_batch.shape)\n",
        "  break"
      ],
      "execution_count": 48,
      "outputs": [
        {
          "output_type": "stream",
          "text": [
            "(32, 107, 1440, 1)\n",
            "(32,)\n"
          ],
          "name": "stdout"
        }
      ]
    },
    {
      "cell_type": "code",
      "metadata": {
        "id": "EpVGbNoAY1M3"
      },
      "source": [
        "normalization_layer = tf.keras.layers.experimental.preprocessing.Rescaling(1./255)\n"
      ],
      "execution_count": 49,
      "outputs": []
    },
    {
      "cell_type": "code",
      "metadata": {
        "colab": {
          "base_uri": "https://localhost:8080/"
        },
        "id": "i60RogtsdBra",
        "outputId": "ad0a5d2d-76bf-496d-ebf0-d91737b4d152"
      },
      "source": [
        "normalized_ds = train_ds.map(lambda x, y: (normalization_layer(x), y))\n",
        "image_batch, labels_batch = next(iter(normalized_ds))\n",
        "first_image = image_batch[0]\n",
        "# Notice the pixels values are now in `[0,1]`.\n",
        "print(np.min(first_image), np.max(first_image))"
      ],
      "execution_count": 50,
      "outputs": [
        {
          "output_type": "stream",
          "text": [
            "0.0 1.0\n"
          ],
          "name": "stdout"
        }
      ]
    },
    {
      "cell_type": "code",
      "metadata": {
        "id": "-WE3i1LGdFQj"
      },
      "source": [
        "AUTOTUNE = tf.data.experimental.AUTOTUNE\n",
        "\n",
        "train_ds = train_ds.cache().prefetch(buffer_size=AUTOTUNE)\n",
        "val_ds = val_ds.cache().prefetch(buffer_size=AUTOTUNE)"
      ],
      "execution_count": 51,
      "outputs": []
    },
    {
      "cell_type": "code",
      "metadata": {
        "id": "W_Duw8ECdNzC"
      },
      "source": [
        "num_classes = 2\n",
        "inputs = tf.keras.Input(shape=(107, 720*2, 1), name='input')\n",
        "x = layers.Conv1D(32, 5, activation='relu', name = 'block1_conv1', padding='same')(inputs)\n",
        "x = layers.Conv1D(32, 5, activation='relu', name = 'block1_conv2', padding='same')(x)\n",
        "x = layers.AveragePooling2D(name = 'avg_pool1')(x)\n",
        "x = layers.Conv1D(32, 3, activation='relu', name = 'block2_conv1', padding='same')(x)\n",
        "x = layers.Conv1D(32, 3, activation='relu', name = 'block2_conv2', padding='same')(x)\n",
        "x = layers.AveragePooling2D(name = 'avg_pool2')(x)\n",
        "x = layers.Conv1D(32, 3, activation='relu', name = 'block3_conv1', padding='same')(x)\n",
        "x = layers.Conv1D(32, 3, activation='relu', name = 'block3_conv2', padding='same')(x)\n",
        "x = layers.AveragePooling2D(name = 'avg_pool3')(x)\n",
        "x = layers.Conv1D(32, 3, activation='relu', name = 'block4_conv1', padding='same')(x)\n",
        "x = layers.Conv1D(32, 3, activation='relu', name = 'block4_conv2', padding='same')(x)\n",
        "x = layers.AveragePooling2D(name = 'avg_pool4')(x)\n",
        "x = layers.Flatten(name = 'flatten')(x)\n",
        "x = layers.Dense(64, activation='relu', name = 'dense1')(x)\n",
        "outputs = layers.Dense(num_classes, name = 'dense2')(x)\n",
        "model = tf.keras.Model(inputs=inputs, outputs=outputs, name=\"genre_classifier\")"
      ],
      "execution_count": 52,
      "outputs": []
    },
    {
      "cell_type": "code",
      "metadata": {
        "id": "gnk2KkcvdWql"
      },
      "source": [
        "model.compile(\n",
        "  optimizer='adam',\n",
        "  loss=tf.losses.SparseCategoricalCrossentropy(from_logits=True),\n",
        "  metrics=['accuracy'])"
      ],
      "execution_count": 53,
      "outputs": []
    },
    {
      "cell_type": "code",
      "metadata": {
        "colab": {
          "base_uri": "https://localhost:8080/"
        },
        "id": "v-pfZi8gdZCq",
        "outputId": "a5723cad-ae1d-4b83-8fb3-4b7d3451ca3a"
      },
      "source": [
        "model.fit(\n",
        "  train_ds,\n",
        "  validation_data=val_ds,\n",
        "  epochs=10\n",
        ")"
      ],
      "execution_count": 54,
      "outputs": [
        {
          "output_type": "stream",
          "text": [
            "Epoch 1/10\n",
            "14/14 [==============================] - 5s 328ms/step - loss: 0.4368 - accuracy: 0.7783 - val_loss: 1.8651 - val_accuracy: 0.7358\n",
            "Epoch 2/10\n",
            "14/14 [==============================] - 4s 256ms/step - loss: 0.5787 - accuracy: 0.8208 - val_loss: 0.3806 - val_accuracy: 0.8396\n",
            "Epoch 3/10\n",
            "14/14 [==============================] - 4s 255ms/step - loss: 0.2793 - accuracy: 0.9057 - val_loss: 0.2939 - val_accuracy: 0.8774\n",
            "Epoch 4/10\n",
            "14/14 [==============================] - 4s 258ms/step - loss: 0.2082 - accuracy: 0.9198 - val_loss: 0.3146 - val_accuracy: 0.8679\n",
            "Epoch 5/10\n",
            "14/14 [==============================] - 4s 259ms/step - loss: 0.1075 - accuracy: 0.9599 - val_loss: 0.3230 - val_accuracy: 0.8774\n",
            "Epoch 6/10\n",
            "14/14 [==============================] - 4s 259ms/step - loss: 0.0423 - accuracy: 0.9858 - val_loss: 0.5809 - val_accuracy: 0.8679\n",
            "Epoch 7/10\n",
            "14/14 [==============================] - 4s 261ms/step - loss: 0.0271 - accuracy: 0.9906 - val_loss: 0.4329 - val_accuracy: 0.9057\n",
            "Epoch 8/10\n",
            "14/14 [==============================] - 4s 261ms/step - loss: 0.0556 - accuracy: 0.9835 - val_loss: 0.7586 - val_accuracy: 0.8491\n",
            "Epoch 9/10\n",
            "14/14 [==============================] - 4s 262ms/step - loss: 0.0192 - accuracy: 0.9976 - val_loss: 1.1545 - val_accuracy: 0.7642\n",
            "Epoch 10/10\n",
            "14/14 [==============================] - 4s 261ms/step - loss: 0.0354 - accuracy: 0.9882 - val_loss: 0.6445 - val_accuracy: 0.8868\n"
          ],
          "name": "stdout"
        },
        {
          "output_type": "execute_result",
          "data": {
            "text/plain": [
              "<tensorflow.python.keras.callbacks.History at 0x7f78003b83c8>"
            ]
          },
          "metadata": {
            "tags": []
          },
          "execution_count": 54
        }
      ]
    },
    {
      "cell_type": "code",
      "metadata": {
        "colab": {
          "base_uri": "https://localhost:8080/"
        },
        "id": "PyYH3w2fkow9",
        "outputId": "9fafae68-45c3-499b-dc33-86add937ee80"
      },
      "source": [
        "model.summary()"
      ],
      "execution_count": 55,
      "outputs": [
        {
          "output_type": "stream",
          "text": [
            "Model: \"genre_classifier\"\n",
            "_________________________________________________________________\n",
            "Layer (type)                 Output Shape              Param #   \n",
            "=================================================================\n",
            "input (InputLayer)           [(None, 107, 1440, 1)]    0         \n",
            "_________________________________________________________________\n",
            "block1_conv1 (Conv1D)        (None, 107, 1440, 32)     192       \n",
            "_________________________________________________________________\n",
            "block1_conv2 (Conv1D)        (None, 107, 1440, 32)     5152      \n",
            "_________________________________________________________________\n",
            "avg_pool1 (AveragePooling2D) (None, 53, 720, 32)       0         \n",
            "_________________________________________________________________\n",
            "block2_conv1 (Conv1D)        (None, 53, 720, 32)       3104      \n",
            "_________________________________________________________________\n",
            "block2_conv2 (Conv1D)        (None, 53, 720, 32)       3104      \n",
            "_________________________________________________________________\n",
            "avg_pool2 (AveragePooling2D) (None, 26, 360, 32)       0         \n",
            "_________________________________________________________________\n",
            "block3_conv1 (Conv1D)        (None, 26, 360, 32)       3104      \n",
            "_________________________________________________________________\n",
            "block3_conv2 (Conv1D)        (None, 26, 360, 32)       3104      \n",
            "_________________________________________________________________\n",
            "avg_pool3 (AveragePooling2D) (None, 13, 180, 32)       0         \n",
            "_________________________________________________________________\n",
            "block4_conv1 (Conv1D)        (None, 13, 180, 32)       3104      \n",
            "_________________________________________________________________\n",
            "block4_conv2 (Conv1D)        (None, 13, 180, 32)       3104      \n",
            "_________________________________________________________________\n",
            "avg_pool4 (AveragePooling2D) (None, 6, 90, 32)         0         \n",
            "_________________________________________________________________\n",
            "flatten (Flatten)            (None, 17280)             0         \n",
            "_________________________________________________________________\n",
            "dense1 (Dense)               (None, 64)                1105984   \n",
            "_________________________________________________________________\n",
            "dense2 (Dense)               (None, 2)                 130       \n",
            "=================================================================\n",
            "Total params: 1,130,082\n",
            "Trainable params: 1,130,082\n",
            "Non-trainable params: 0\n",
            "_________________________________________________________________\n"
          ],
          "name": "stdout"
        }
      ]
    },
    {
      "cell_type": "code",
      "metadata": {
        "colab": {
          "base_uri": "https://localhost:8080/"
        },
        "id": "5GJHKQs6db0d",
        "outputId": "79413bdf-5648-4440-baf6-1f595077b245"
      },
      "source": [
        "print()\n",
        "for layer in model.layers:\n",
        "  print(layer.name)"
      ],
      "execution_count": 56,
      "outputs": [
        {
          "output_type": "stream",
          "text": [
            "\n",
            "input\n",
            "block1_conv1\n",
            "block1_conv2\n",
            "avg_pool1\n",
            "block2_conv1\n",
            "block2_conv2\n",
            "avg_pool2\n",
            "block3_conv1\n",
            "block3_conv2\n",
            "avg_pool3\n",
            "block4_conv1\n",
            "block4_conv2\n",
            "avg_pool4\n",
            "flatten\n",
            "dense1\n",
            "dense2\n"
          ],
          "name": "stdout"
        }
      ]
    },
    {
      "cell_type": "code",
      "metadata": {
        "id": "sxyMREX16Y7B"
      },
      "source": [
        "content_layers = ['block4_conv2'] \n",
        "\n",
        "style_layers = ['block1_conv1',\n",
        "                'block2_conv1',\n",
        "                'block3_conv1']\n",
        "\n",
        "num_content_layers = len(content_layers)\n",
        "num_style_layers = len(style_layers)"
      ],
      "execution_count": 20,
      "outputs": []
    },
    {
      "cell_type": "code",
      "metadata": {
        "id": "SbHCtPT3hbVj"
      },
      "source": [
        "def model_layers(layer_names, model):\n",
        "  \"\"\" Creates a vgg model that returns a list of intermediate output values.\"\"\"\n",
        "  model.trainable = False\n",
        "  \n",
        "  outputs = [model.get_layer(name).output for name in layer_names]\n",
        "\n",
        "  style_model = tf.keras.Model([model.inputs], outputs)\n",
        "  return style_model"
      ],
      "execution_count": 21,
      "outputs": []
    },
    {
      "cell_type": "code",
      "metadata": {
        "colab": {
          "base_uri": "https://localhost:8080/",
          "height": 101
        },
        "id": "vxIWK8JPHpU8",
        "outputId": "caed984b-1b78-4d38-ccf3-49799afdcca2"
      },
      "source": [
        "from PIL import Image\n",
        "import numpy as np\n",
        "\n",
        "w, h = 720, 1\n",
        "x = np.linspace(0, 1, w) # Use game evaluations here\n",
        "style_image = np.tile(x, (w, 1))\n",
        "style_image = style_image[:107, :]\n",
        "plt.imshow(style_image, cmap='gray')\n",
        "plt.show()"
      ],
      "execution_count": 22,
      "outputs": [
        {
          "output_type": "display_data",
          "data": {
            "image/png": "[encoded data removed]",
            "text/plain": [
              "<Figure size 432x288 with 1 Axes>"
            ]
          },
          "metadata": {
            "tags": [],
            "needs_background": "light"
          }
        }
      ]
    },
    {
      "cell_type": "code",
      "metadata": {
        "colab": {
          "base_uri": "https://localhost:8080/"
        },
        "id": "QT03zdwPSx-q",
        "outputId": "677da864-efa6-4ae3-fb1b-faf8a11ee725"
      },
      "source": [
        "style_image = style_image[..., np.newaxis]\n",
        "style_image = style_image[np.newaxis, ...]\n",
        "style_image.shape"
      ],
      "execution_count": 23,
      "outputs": [
        {
          "output_type": "execute_result",
          "data": {
            "text/plain": [
              "(1, 107, 720, 1)"
            ]
          },
          "metadata": {
            "tags": []
          },
          "execution_count": 23
        }
      ]
    },
    {
      "cell_type": "code",
      "metadata": {
        "id": "yXvnuQ5H77Bz",
        "colab": {
          "base_uri": "https://localhost:8080/"
        },
        "outputId": "32e87998-cdb2-42e4-a15e-21fd97a4a48e"
      },
      "source": [
        "style_extractor = model_layers(style_layers, model)\n",
        "style_outputs = style_extractor(style_image*255)\n",
        "\n",
        "#Look at the statistics of each layer's output\n",
        "for name, output in zip(style_layers, style_outputs):\n",
        "  print(name)\n",
        "  print(\"  shape: \", output.numpy().shape)\n",
        "  print(\"  min: \", output.numpy().min())\n",
        "  print(\"  max: \", output.numpy().max())\n",
        "  print(\"  mean: \", output.numpy().mean())\n",
        "  print()"
      ],
      "execution_count": 24,
      "outputs": [
        {
          "output_type": "stream",
          "text": [
            "block1_conv1\n",
            "  shape:  (1, 107, 716, 32)\n",
            "  min:  0.0\n",
            "  max:  137.0653\n",
            "  mean:  16.10494\n",
            "\n",
            "block2_conv1\n",
            "  shape:  (1, 53, 354, 32)\n",
            "  min:  0.0\n",
            "  max:  115.42106\n",
            "  mean:  13.287041\n",
            "\n",
            "block3_conv1\n",
            "  shape:  (1, 26, 174, 32)\n",
            "  min:  0.0\n",
            "  max:  127.14413\n",
            "  mean:  12.698242\n",
            "\n"
          ],
          "name": "stdout"
        }
      ]
    },
    {
      "cell_type": "code",
      "metadata": {
        "id": "s7Ywj5OSFuH3"
      },
      "source": [
        "def gram_matrix(input_tensor):\n",
        "  result = tf.linalg.einsum('bijc,bijd->bcd', input_tensor, input_tensor)\n",
        "  input_shape = tf.shape(input_tensor)\n",
        "  num_locations = tf.cast(input_shape[1]*input_shape[2], tf.float32)\n",
        "  return result/(num_locations)"
      ],
      "execution_count": 25,
      "outputs": []
    },
    {
      "cell_type": "code",
      "metadata": {
        "id": "nN6jbgfbZO0a"
      },
      "source": [
        "class StyleContentModel(tf.keras.models.Model):\n",
        "  def __init__(self, style_layers, content_layers):\n",
        "    super(StyleContentModel, self).__init__()\n",
        "    self.model =  model_layers(style_layers + content_layers, model)\n",
        "    self.style_layers = style_layers\n",
        "    self.content_layers = content_layers\n",
        "    self.num_style_layers = len(style_layers)\n",
        "    self.model.trainable = False\n",
        "\n",
        "  def call(self, inputs):\n",
        "    \"Expects float input in [0,1]\"\n",
        "    inputs = inputs*255.0\n",
        "    # preprocessed_input = tf.keras.applications.vgg19.preprocess_input(inputs)\n",
        "    outputs = self.model(inputs)\n",
        "    style_outputs, content_outputs = (outputs[:self.num_style_layers], \n",
        "                                      outputs[self.num_style_layers:])\n",
        "\n",
        "    style_outputs = [gram_matrix(style_output)\n",
        "                     for style_output in style_outputs]\n",
        "\n",
        "    content_dict = {content_name:value \n",
        "                    for content_name, value \n",
        "                    in zip(self.content_layers, content_outputs)}\n",
        "\n",
        "    style_dict = {style_name:value\n",
        "                  for style_name, value\n",
        "                  in zip(self.style_layers, style_outputs)}\n",
        "    \n",
        "    return {'content':content_dict, 'style':style_dict}"
      ],
      "execution_count": 26,
      "outputs": []
    },
    {
      "cell_type": "code",
      "metadata": {
        "colab": {
          "base_uri": "https://localhost:8080/"
        },
        "id": "64XToEqdZTPj",
        "outputId": "4a08faf6-0ce0-4bd2-b836-3a6840516bae"
      },
      "source": [
        "extractor = StyleContentModel(style_layers, content_layers)\n",
        "\n",
        "results = extractor(tf.constant(content_image))\n",
        "\n",
        "print('Styles:')\n",
        "for name, output in sorted(results['style'].items()):\n",
        "  print(\"  \", name)\n",
        "  print(\"    shape: \", output.numpy().shape)\n",
        "  print(\"    min: \", output.numpy().min())\n",
        "  print(\"    max: \", output.numpy().max())\n",
        "  print(\"    mean: \", output.numpy().mean())\n",
        "  print()\n",
        "\n",
        "print(\"Contents:\")\n",
        "for name, output in sorted(results['content'].items()):\n",
        "  print(\"  \", name)\n",
        "  print(\"    shape: \", output.numpy().shape)\n",
        "  print(\"    min: \", output.numpy().min())\n",
        "  print(\"    max: \", output.numpy().max())\n",
        "  print(\"    mean: \", output.numpy().mean())"
      ],
      "execution_count": 27,
      "outputs": [
        {
          "output_type": "stream",
          "text": [
            "Styles:\n",
            "   block1_conv1\n",
            "    shape:  (1, 32, 32)\n",
            "    min:  0.0\n",
            "    max:  328.30814\n",
            "    mean:  23.58912\n",
            "\n",
            "   block2_conv1\n",
            "    shape:  (1, 32, 32)\n",
            "    min:  0.0\n",
            "    max:  126.32587\n",
            "    mean:  6.138858\n",
            "\n",
            "   block3_conv1\n",
            "    shape:  (1, 32, 32)\n",
            "    min:  0.0\n",
            "    max:  73.654526\n",
            "    mean:  2.9906592\n",
            "\n",
            "Contents:\n",
            "   block4_conv2\n",
            "    shape:  (1, 13, 172, 32)\n",
            "    min:  0.0\n",
            "    max:  12.013135\n",
            "    mean:  0.20935865\n"
          ],
          "name": "stdout"
        }
      ]
    },
    {
      "cell_type": "code",
      "metadata": {
        "colab": {
          "base_uri": "https://localhost:8080/"
        },
        "id": "ru12ctRIZ0b2",
        "outputId": "1378166f-c073-4809-a15e-07ae3df6305f"
      },
      "source": [
        "style_targets = extractor(style_image)['style']\n",
        "content_targets = extractor(content_image)['content']"
      ],
      "execution_count": 28,
      "outputs": [
        {
          "output_type": "stream",
          "text": [
            "WARNING:tensorflow:Layer style_content_model is casting an input tensor from dtype float64 to the layer's dtype of float32, which is new behavior in TensorFlow 2.  The layer has dtype float32 because its dtype defaults to floatx.\n",
            "\n",
            "If you intended to run this layer in float32, you can safely ignore this warning. If in doubt, this warning is likely only an issue if you are porting a TensorFlow 1.X model to TensorFlow 2.\n",
            "\n",
            "To change all layers to have dtype float64 by default, call `tf.keras.backend.set_floatx('float64')`. To change just this layer, pass dtype='float64' to the layer constructor. If you are the author of this layer, you can disable autocasting by passing autocast=False to the base Layer constructor.\n",
            "\n"
          ],
          "name": "stdout"
        }
      ]
    },
    {
      "cell_type": "code",
      "metadata": {
        "id": "zp0xNDuwbKRL"
      },
      "source": [
        "image = tf.Variable(content_image)"
      ],
      "execution_count": 29,
      "outputs": []
    },
    {
      "cell_type": "code",
      "metadata": {
        "id": "pv6cqxf2bNHo"
      },
      "source": [
        "def clip_0_1(image):\n",
        "  return tf.clip_by_value(image, clip_value_min=0.0, clip_value_max=1.0)"
      ],
      "execution_count": 30,
      "outputs": []
    },
    {
      "cell_type": "code",
      "metadata": {
        "id": "E5Ju-5bNbPPF"
      },
      "source": [
        "opt = tf.optimizers.Adam(learning_rate=0.02, beta_1=0.99, epsilon=1e-1)"
      ],
      "execution_count": 31,
      "outputs": []
    },
    {
      "cell_type": "code",
      "metadata": {
        "id": "eOryE-UbbRVk"
      },
      "source": [
        "style_weight=1e-2\n",
        "content_weight=1e4"
      ],
      "execution_count": 32,
      "outputs": []
    },
    {
      "cell_type": "code",
      "metadata": {
        "id": "KfcCyJytbUQt"
      },
      "source": [
        "def style_content_loss(outputs):\n",
        "    style_outputs = outputs['style']\n",
        "    content_outputs = outputs['content']\n",
        "    style_loss = tf.add_n([tf.reduce_mean((style_outputs[name]-style_targets[name])**2) \n",
        "                           for name in style_outputs.keys()])\n",
        "    style_loss *= style_weight / num_style_layers\n",
        "\n",
        "    content_loss = tf.add_n([tf.reduce_mean((content_outputs[name]-content_targets[name])**2) \n",
        "                             for name in content_outputs.keys()])\n",
        "    content_loss *= content_weight / num_content_layers\n",
        "    loss = style_loss + content_loss\n",
        "    return loss"
      ],
      "execution_count": 33,
      "outputs": []
    },
    {
      "cell_type": "code",
      "metadata": {
        "id": "qtT5ORBBbWXv"
      },
      "source": [
        "@tf.function()\n",
        "def train_step(image):\n",
        "  with tf.GradientTape() as tape:\n",
        "    outputs = extractor(image)\n",
        "    loss = style_content_loss(outputs)\n",
        "\n",
        "  grad = tape.gradient(loss, image)\n",
        "  opt.apply_gradients([(grad, image)])\n",
        "  image.assign(clip_0_1(image))"
      ],
      "execution_count": 34,
      "outputs": []
    },
    {
      "cell_type": "code",
      "metadata": {
        "id": "F7E-MbUiegXf"
      },
      "source": [
        "def tensor_to_image(tensor):\n",
        "  tensor = tensor*255\n",
        "  tensor = np.array(tensor, dtype=np.uint8)\n",
        "  if np.ndim(tensor)>3:\n",
        "    assert tensor.shape[0] == 1\n",
        "    tensor = tensor[0]\n",
        "  return PIL.Image.fromarray(tensor[...,0], 'L')"
      ],
      "execution_count": 35,
      "outputs": []
    },
    {
      "cell_type": "code",
      "metadata": {
        "colab": {
          "base_uri": "https://localhost:8080/",
          "height": 164
        },
        "id": "0PeOn45DbYU2",
        "outputId": "2e199a43-3389-4553-998a-df7648eccc43"
      },
      "source": [
        "train_step(image)\n",
        "train_step(image)\n",
        "train_step(image)\n",
        "tensor_to_image(image)"
      ],
      "execution_count": 36,
      "outputs": [
        {
          "output_type": "stream",
          "text": [
            "WARNING:tensorflow:Model was constructed with shape (None, 107, 1440, 1) for input Tensor(\"input:0\", shape=(None, 107, 1440, 1), dtype=float32), but it was called on an input with incompatible shape (1, 106, 1440, 1).\n",
            "WARNING:tensorflow:Model was constructed with shape (None, 107, 1440, 1) for input Tensor(\"input:0\", shape=(None, 107, 1440, 1), dtype=float32), but it was called on an input with incompatible shape (1, 106, 1440, 1).\n"
          ],
          "name": "stdout"
        },
        {
          "output_type": "execute_result",
          "data": {
            "image/png": "[encoded data removed]",
            "text/plain": [
              "<PIL.Image.Image image mode=L size=1440x106 at 0x7F77AC0C9E80>"
            ]
          },
          "metadata": {
            "tags": []
          },
          "execution_count": 36
        }
      ]
    },
    {
      "cell_type": "code",
      "metadata": {
        "colab": {
          "base_uri": "https://localhost:8080/",
          "height": 144
        },
        "id": "KV_id8PNbbGj",
        "outputId": "580e963f-ddfe-4f22-8112-09846958f21a"
      },
      "source": [
        "import time\n",
        "start = time.time()\n",
        "\n",
        "epochs = 100\n",
        "steps_per_epoch = 100\n",
        "\n",
        "step = 0\n",
        "for n in range(epochs):\n",
        "  for m in range(steps_per_epoch):\n",
        "    step += 1\n",
        "    train_step(image)\n",
        "    print(\".\", end='')\n",
        "  display.clear_output(wait=True)\n",
        "  display.display(tensor_to_image(image))\n",
        "  print(\"Train step: {}\".format(step))\n",
        "  \n",
        "end = time.time()\n",
        "print(\"Total time: {:.1f}\".format(end-start))"
      ],
      "execution_count": 37,
      "outputs": [
        {
          "output_type": "display_data",
          "data": {
            "image/png": "[encoded data removed]",
            "text/plain": [
              "<PIL.Image.Image image mode=L size=1440x106 at 0x7F77A4B6EF98>"
            ]
          },
          "metadata": {
            "tags": []
          }
        },
        {
          "output_type": "stream",
          "text": [
            "Train step: 10000\n",
            "Total time: 79.9\n"
          ],
          "name": "stdout"
        }
      ]
    },
    {
      "cell_type": "code",
      "metadata": {
        "id": "NKUt6IG9gevT"
      },
      "source": [
        ""
      ],
      "execution_count": 37,
      "outputs": []
    }
  ]
}